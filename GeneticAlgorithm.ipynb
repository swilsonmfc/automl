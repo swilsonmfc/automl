{
  "nbformat": 4,
  "nbformat_minor": 0,
  "metadata": {
    "colab": {
      "name": "GeneticAlgorithm.ipynb",
      "provenance": [],
      "toc_visible": true,
      "authorship_tag": "ABX9TyN8WCiuKE5toQmYhiW4rB8z",
      "include_colab_link": true
    },
    "kernelspec": {
      "name": "python3",
      "display_name": "Python 3"
    },
    "language_info": {
      "name": "python"
    }
  },
  "cells": [
    {
      "cell_type": "markdown",
      "metadata": {
        "id": "view-in-github",
        "colab_type": "text"
      },
      "source": [
        "<a href=\"https://colab.research.google.com/github/swilsonmfc/automl/blob/main/GeneticAlgorithm.ipynb\" target=\"_parent\"><img src=\"https://colab.research.google.com/assets/colab-badge.svg\" alt=\"Open In Colab\"/></a>"
      ]
    },
    {
      "cell_type": "markdown",
      "metadata": {
        "id": "wG7FVRx73XDI"
      },
      "source": [
        "# Genetic Algorithm"
      ]
    },
    {
      "cell_type": "markdown",
      "metadata": {
        "id": "6BEJWXAfuk2I"
      },
      "source": [
        "# Install"
      ]
    },
    {
      "cell_type": "code",
      "metadata": {
        "colab": {
          "base_uri": "https://localhost:8080/"
        },
        "id": "b1_J9ucWujyE",
        "outputId": "fd60bd25-d4f1-43bd-bbba-5ec9486e7be3"
      },
      "source": [
        "!pip install gplearn"
      ],
      "execution_count": 1,
      "outputs": [
        {
          "output_type": "stream",
          "text": [
            "Collecting gplearn\n",
            "\u001b[?25l  Downloading https://files.pythonhosted.org/packages/43/6b/ee38cd74b32ad5056603aabbef622f9691f19d0869574dfc610034f18662/gplearn-0.4.1-py3-none-any.whl (41kB)\n",
            "\r\u001b[K     |████████                        | 10kB 8.3MB/s eta 0:00:01\r\u001b[K     |███████████████▉                | 20kB 12.8MB/s eta 0:00:01\r\u001b[K     |███████████████████████▊        | 30kB 16.7MB/s eta 0:00:01\r\u001b[K     |███████████████████████████████▊| 40kB 19.9MB/s eta 0:00:01\r\u001b[K     |████████████████████████████████| 51kB 4.4MB/s \n",
            "\u001b[?25hRequirement already satisfied: joblib>=0.13.0 in /usr/local/lib/python3.7/dist-packages (from gplearn) (1.0.1)\n",
            "Requirement already satisfied: scikit-learn>=0.20.0 in /usr/local/lib/python3.7/dist-packages (from gplearn) (0.22.2.post1)\n",
            "Requirement already satisfied: numpy>=1.11.0 in /usr/local/lib/python3.7/dist-packages (from scikit-learn>=0.20.0->gplearn) (1.19.5)\n",
            "Requirement already satisfied: scipy>=0.17.0 in /usr/local/lib/python3.7/dist-packages (from scikit-learn>=0.20.0->gplearn) (1.4.1)\n",
            "Installing collected packages: gplearn\n",
            "Successfully installed gplearn-0.4.1\n"
          ],
          "name": "stdout"
        }
      ]
    },
    {
      "cell_type": "code",
      "metadata": {
        "colab": {
          "base_uri": "https://localhost:8080/",
          "height": 1000
        },
        "id": "E8S-8Y9XvDGL",
        "outputId": "572d0725-5abc-4c41-f537-8262485e18c0"
      },
      "source": [
        "!pip install drawdata"
      ],
      "execution_count": 2,
      "outputs": [
        {
          "output_type": "stream",
          "text": [
            "Collecting drawdata\n",
            "  Downloading https://files.pythonhosted.org/packages/f7/e6/538faee79cccf5449474a68f930da9ff4e8d8e444fc198b45e138562b5b3/drawdata-0.2.0-py2.py3-none-any.whl\n",
            "Requirement already satisfied: jupyter>=1.0.0 in /usr/local/lib/python3.7/dist-packages (from drawdata) (1.0.0)\n",
            "Collecting ipython>=7.16.1\n",
            "\u001b[?25l  Downloading https://files.pythonhosted.org/packages/81/d1/8d0ba7589ea4cbf3e80ef8e20616da2cfc3c33187a64b044372aad517512/ipython-7.23.1-py3-none-any.whl (785kB)\n",
            "\u001b[K     |████████████████████████████████| 788kB 25.4MB/s \n",
            "\u001b[?25hRequirement already satisfied: jupyter-console in /usr/local/lib/python3.7/dist-packages (from jupyter>=1.0.0->drawdata) (5.2.0)\n",
            "Requirement already satisfied: notebook in /usr/local/lib/python3.7/dist-packages (from jupyter>=1.0.0->drawdata) (5.3.1)\n",
            "Requirement already satisfied: ipykernel in /usr/local/lib/python3.7/dist-packages (from jupyter>=1.0.0->drawdata) (4.10.1)\n",
            "Requirement already satisfied: nbconvert in /usr/local/lib/python3.7/dist-packages (from jupyter>=1.0.0->drawdata) (5.6.1)\n",
            "Requirement already satisfied: qtconsole in /usr/local/lib/python3.7/dist-packages (from jupyter>=1.0.0->drawdata) (5.0.3)\n",
            "Requirement already satisfied: ipywidgets in /usr/local/lib/python3.7/dist-packages (from jupyter>=1.0.0->drawdata) (7.6.3)\n",
            "Requirement already satisfied: pygments in /usr/local/lib/python3.7/dist-packages (from ipython>=7.16.1->drawdata) (2.6.1)\n",
            "Requirement already satisfied: setuptools>=18.5 in /usr/local/lib/python3.7/dist-packages (from ipython>=7.16.1->drawdata) (56.0.0)\n",
            "Requirement already satisfied: pickleshare in /usr/local/lib/python3.7/dist-packages (from ipython>=7.16.1->drawdata) (0.7.5)\n",
            "Requirement already satisfied: pexpect>4.3; sys_platform != \"win32\" in /usr/local/lib/python3.7/dist-packages (from ipython>=7.16.1->drawdata) (4.8.0)\n",
            "Collecting prompt-toolkit!=3.0.0,!=3.0.1,<3.1.0,>=2.0.0\n",
            "\u001b[?25l  Downloading https://files.pythonhosted.org/packages/eb/e6/4b4ca4fa94462d4560ba2f4e62e62108ab07be2e16a92e594e43b12d3300/prompt_toolkit-3.0.18-py3-none-any.whl (367kB)\n",
            "\u001b[K     |████████████████████████████████| 368kB 38.5MB/s \n",
            "\u001b[?25hCollecting matplotlib-inline\n",
            "  Downloading https://files.pythonhosted.org/packages/7f/de/6c111d687335729cf8c156394c8d119b0dc3c34b6966ff2a2f7fe4aa79cf/matplotlib_inline-0.1.2-py3-none-any.whl\n",
            "Requirement already satisfied: traitlets>=4.2 in /usr/local/lib/python3.7/dist-packages (from ipython>=7.16.1->drawdata) (5.0.5)\n",
            "Requirement already satisfied: jedi>=0.16 in /usr/local/lib/python3.7/dist-packages (from ipython>=7.16.1->drawdata) (0.18.0)\n",
            "Requirement already satisfied: backcall in /usr/local/lib/python3.7/dist-packages (from ipython>=7.16.1->drawdata) (0.2.0)\n",
            "Requirement already satisfied: decorator in /usr/local/lib/python3.7/dist-packages (from ipython>=7.16.1->drawdata) (4.4.2)\n",
            "Requirement already satisfied: jupyter-client in /usr/local/lib/python3.7/dist-packages (from jupyter-console->jupyter>=1.0.0->drawdata) (5.3.5)\n",
            "Requirement already satisfied: nbformat in /usr/local/lib/python3.7/dist-packages (from notebook->jupyter>=1.0.0->drawdata) (5.1.3)\n",
            "Requirement already satisfied: tornado>=4 in /usr/local/lib/python3.7/dist-packages (from notebook->jupyter>=1.0.0->drawdata) (5.1.1)\n",
            "Requirement already satisfied: jinja2 in /usr/local/lib/python3.7/dist-packages (from notebook->jupyter>=1.0.0->drawdata) (2.11.3)\n",
            "Requirement already satisfied: ipython-genutils in /usr/local/lib/python3.7/dist-packages (from notebook->jupyter>=1.0.0->drawdata) (0.2.0)\n",
            "Requirement already satisfied: jupyter-core>=4.4.0 in /usr/local/lib/python3.7/dist-packages (from notebook->jupyter>=1.0.0->drawdata) (4.7.1)\n",
            "Requirement already satisfied: terminado>=0.8.1 in /usr/local/lib/python3.7/dist-packages (from notebook->jupyter>=1.0.0->drawdata) (0.9.4)\n",
            "Requirement already satisfied: Send2Trash in /usr/local/lib/python3.7/dist-packages (from notebook->jupyter>=1.0.0->drawdata) (1.5.0)\n",
            "Requirement already satisfied: bleach in /usr/local/lib/python3.7/dist-packages (from nbconvert->jupyter>=1.0.0->drawdata) (3.3.0)\n",
            "Requirement already satisfied: pandocfilters>=1.4.1 in /usr/local/lib/python3.7/dist-packages (from nbconvert->jupyter>=1.0.0->drawdata) (1.4.3)\n",
            "Requirement already satisfied: testpath in /usr/local/lib/python3.7/dist-packages (from nbconvert->jupyter>=1.0.0->drawdata) (0.4.4)\n",
            "Requirement already satisfied: defusedxml in /usr/local/lib/python3.7/dist-packages (from nbconvert->jupyter>=1.0.0->drawdata) (0.7.1)\n",
            "Requirement already satisfied: mistune<2,>=0.8.1 in /usr/local/lib/python3.7/dist-packages (from nbconvert->jupyter>=1.0.0->drawdata) (0.8.4)\n",
            "Requirement already satisfied: entrypoints>=0.2.2 in /usr/local/lib/python3.7/dist-packages (from nbconvert->jupyter>=1.0.0->drawdata) (0.3)\n",
            "Requirement already satisfied: qtpy in /usr/local/lib/python3.7/dist-packages (from qtconsole->jupyter>=1.0.0->drawdata) (1.9.0)\n",
            "Requirement already satisfied: pyzmq>=17.1 in /usr/local/lib/python3.7/dist-packages (from qtconsole->jupyter>=1.0.0->drawdata) (22.0.3)\n",
            "Requirement already satisfied: jupyterlab-widgets>=1.0.0; python_version >= \"3.6\" in /usr/local/lib/python3.7/dist-packages (from ipywidgets->jupyter>=1.0.0->drawdata) (1.0.0)\n",
            "Requirement already satisfied: widgetsnbextension~=3.5.0 in /usr/local/lib/python3.7/dist-packages (from ipywidgets->jupyter>=1.0.0->drawdata) (3.5.1)\n",
            "Requirement already satisfied: ptyprocess>=0.5 in /usr/local/lib/python3.7/dist-packages (from pexpect>4.3; sys_platform != \"win32\"->ipython>=7.16.1->drawdata) (0.7.0)\n",
            "Requirement already satisfied: wcwidth in /usr/local/lib/python3.7/dist-packages (from prompt-toolkit!=3.0.0,!=3.0.1,<3.1.0,>=2.0.0->ipython>=7.16.1->drawdata) (0.2.5)\n",
            "Requirement already satisfied: parso<0.9.0,>=0.8.0 in /usr/local/lib/python3.7/dist-packages (from jedi>=0.16->ipython>=7.16.1->drawdata) (0.8.2)\n",
            "Requirement already satisfied: python-dateutil>=2.1 in /usr/local/lib/python3.7/dist-packages (from jupyter-client->jupyter-console->jupyter>=1.0.0->drawdata) (2.8.1)\n",
            "Requirement already satisfied: jsonschema!=2.5.0,>=2.4 in /usr/local/lib/python3.7/dist-packages (from nbformat->notebook->jupyter>=1.0.0->drawdata) (2.6.0)\n",
            "Requirement already satisfied: MarkupSafe>=0.23 in /usr/local/lib/python3.7/dist-packages (from jinja2->notebook->jupyter>=1.0.0->drawdata) (1.1.1)\n",
            "Requirement already satisfied: webencodings in /usr/local/lib/python3.7/dist-packages (from bleach->nbconvert->jupyter>=1.0.0->drawdata) (0.5.1)\n",
            "Requirement already satisfied: packaging in /usr/local/lib/python3.7/dist-packages (from bleach->nbconvert->jupyter>=1.0.0->drawdata) (20.9)\n",
            "Requirement already satisfied: six>=1.9.0 in /usr/local/lib/python3.7/dist-packages (from bleach->nbconvert->jupyter>=1.0.0->drawdata) (1.15.0)\n",
            "Requirement already satisfied: pyparsing>=2.0.2 in /usr/local/lib/python3.7/dist-packages (from packaging->bleach->nbconvert->jupyter>=1.0.0->drawdata) (2.4.7)\n",
            "\u001b[31mERROR: jupyter-console 5.2.0 has requirement prompt-toolkit<2.0.0,>=1.0.0, but you'll have prompt-toolkit 3.0.18 which is incompatible.\u001b[0m\n",
            "\u001b[31mERROR: google-colab 1.0.0 has requirement ipython~=5.5.0, but you'll have ipython 7.23.1 which is incompatible.\u001b[0m\n",
            "Installing collected packages: prompt-toolkit, matplotlib-inline, ipython, drawdata\n",
            "  Found existing installation: prompt-toolkit 1.0.18\n",
            "    Uninstalling prompt-toolkit-1.0.18:\n",
            "      Successfully uninstalled prompt-toolkit-1.0.18\n",
            "  Found existing installation: ipython 5.5.0\n",
            "    Uninstalling ipython-5.5.0:\n",
            "      Successfully uninstalled ipython-5.5.0\n",
            "Successfully installed drawdata-0.2.0 ipython-7.23.1 matplotlib-inline-0.1.2 prompt-toolkit-3.0.18\n"
          ],
          "name": "stdout"
        },
        {
          "output_type": "display_data",
          "data": {
            "application/vnd.colab-display-data+json": {
              "pip_warning": {
                "packages": [
                  "IPython",
                  "prompt_toolkit"
                ]
              }
            }
          },
          "metadata": {
            "tags": []
          }
        }
      ]
    },
    {
      "cell_type": "markdown",
      "metadata": {
        "id": "UvoMDtzoCOgt"
      },
      "source": [
        "# Setup"
      ]
    },
    {
      "cell_type": "code",
      "metadata": {
        "id": "iWWrW9awCN_F"
      },
      "source": [
        "import pandas as pd\n",
        "import numpy as np\n",
        "import matplotlib.pyplot as plt\n",
        "from io import StringIO\n",
        "\n",
        "from sklearn.metrics import accuracy_score\n",
        "from sklearn.model_selection import train_test_split\n",
        "from sklearn.linear_model import LogisticRegression\n",
        "\n",
        "from drawdata import draw_scatter\n",
        "import graphviz\n",
        "\n",
        "from gplearn.genetic import SymbolicClassifier"
      ],
      "execution_count": 3,
      "outputs": []
    },
    {
      "cell_type": "markdown",
      "metadata": {
        "id": "fJ_8KlOMBCT7"
      },
      "source": [
        "# Algorithm"
      ]
    },
    {
      "cell_type": "markdown",
      "metadata": {
        "id": "6qBDtIL83bq-"
      },
      "source": [
        "![](https://aqibsaeed.github.io/img/ga.png)"
      ]
    },
    {
      "cell_type": "markdown",
      "metadata": {
        "id": "Wh2hBSNMBD1O"
      },
      "source": [
        "## Crossover\n",
        "\n",
        "![](https://d3i71xaburhd42.cloudfront.net/73a50124700c7b2e44e3a72a298f6279a8b54ac3/13-Figure2-1.png)"
      ]
    },
    {
      "cell_type": "markdown",
      "metadata": {
        "id": "7m9kJm86uGIz"
      },
      "source": [
        "## Mutate\n",
        "\n",
        "![](https://www.researchgate.net/profile/Chun-Liu-8/publication/272093243/figure/fig8/AS:329956690284546@1455679213204/Mutation-operators-applied-to-chromosomes-in-the-proposed-genetic-algorithm.png)"
      ]
    },
    {
      "cell_type": "markdown",
      "metadata": {
        "id": "VuvwfpkC_gnj"
      },
      "source": [
        "# DIY"
      ]
    },
    {
      "cell_type": "code",
      "metadata": {
        "id": "GIkkbSsyvQQ5"
      },
      "source": [
        "COEFFICIENTS =  [3.0, -2.0, 7.5, -10.0, 0.5, 4.4, 1.1, -0.75]"
      ],
      "execution_count": 4,
      "outputs": []
    },
    {
      "cell_type": "code",
      "metadata": {
        "id": "m1-r8Vjc_iTz"
      },
      "source": [
        "def calculate_fitness(population):\n",
        "    \"\"\"\n",
        "    Compute the fitness / scoring function\n",
        "    Implemented as the weighted sum with an array of coefficients\n",
        "    \"\"\"\n",
        "    fitness = np.sum(population * COEFFICIENTS, axis=1)\n",
        "    return fitness\n",
        "\n",
        "def create_mating_pool(population, fitness, number_parents):\n",
        "    \"\"\"\n",
        "    Find the best number_parents in population according to fitness\n",
        "    \"\"\"\n",
        "    parents = np.empty((number_parents, population.shape[1]))\n",
        "    for parent in range(number_parents):\n",
        "        maximum = np.where(fitness == np.max(fitness))\n",
        "        maximum = maximum[0][0]\n",
        "        parents[parent, :] = population[maximum, :]\n",
        "        fitness[maximum] = -999999\n",
        "    return parents\n",
        "\n",
        "def crossover(parents, number_offspring, features):\n",
        "    \"\"\"\n",
        "    We're going to cross over parents to make offspring\n",
        "    Our cross point will be halfway over feastures length\n",
        "    \"\"\"\n",
        "    offspring = np.empty((number_offspring, features))\n",
        "    cross = int(features / 2)\n",
        "    for off in range(number_offspring):\n",
        "        parent1 = off % parents.shape[0]\n",
        "        parent2 = (off + 1) % parents.shape[0]\n",
        "        offspring[off, 0:cross] = parents[parent1, 0:cross]\n",
        "        offspring[off, cross:]  = parents[parent2, cross:]\n",
        "    return offspring\n",
        "\n",
        "def mutation(offspring):\n",
        "    \"\"\"\n",
        "    Randomly select a feature to mutate\n",
        "    \"\"\"\n",
        "    for off in range(offspring.shape[0]):\n",
        "        rand = np.random.uniform(-1.0, 1.0, 1)\n",
        "        mutate = np.random.randint(0, 7)\n",
        "        offspring[off, mutate] = offspring[off, mutate] + rand\n",
        "    return offspring"
      ],
      "execution_count": 5,
      "outputs": []
    },
    {
      "cell_type": "markdown",
      "metadata": {
        "id": "VMn9mqET_r4L"
      },
      "source": [
        "## Initialize Population\n",
        "* 10 individuals in the population\n",
        "* 8 features per individual"
      ]
    },
    {
      "cell_type": "code",
      "metadata": {
        "colab": {
          "base_uri": "https://localhost:8080/",
          "height": 348
        },
        "id": "ncR9TcqH_3em",
        "outputId": "e63822e9-9484-4b92-ab25-e7adfed6cc94"
      },
      "source": [
        "individuals = 10\n",
        "features    = 8\n",
        "pop_size = (individuals, features)\n",
        "population = np.random.uniform(low=-5.0, high=5.0, size=pop_size)\n",
        "pd.DataFrame(population)"
      ],
      "execution_count": 6,
      "outputs": [
        {
          "output_type": "execute_result",
          "data": {
            "text/html": [
              "<div>\n",
              "<style scoped>\n",
              "    .dataframe tbody tr th:only-of-type {\n",
              "        vertical-align: middle;\n",
              "    }\n",
              "\n",
              "    .dataframe tbody tr th {\n",
              "        vertical-align: top;\n",
              "    }\n",
              "\n",
              "    .dataframe thead th {\n",
              "        text-align: right;\n",
              "    }\n",
              "</style>\n",
              "<table border=\"1\" class=\"dataframe\">\n",
              "  <thead>\n",
              "    <tr style=\"text-align: right;\">\n",
              "      <th></th>\n",
              "      <th>0</th>\n",
              "      <th>1</th>\n",
              "      <th>2</th>\n",
              "      <th>3</th>\n",
              "      <th>4</th>\n",
              "      <th>5</th>\n",
              "      <th>6</th>\n",
              "      <th>7</th>\n",
              "    </tr>\n",
              "  </thead>\n",
              "  <tbody>\n",
              "    <tr>\n",
              "      <th>0</th>\n",
              "      <td>-3.435779</td>\n",
              "      <td>-1.612324</td>\n",
              "      <td>-0.767411</td>\n",
              "      <td>-4.565266</td>\n",
              "      <td>-3.480324</td>\n",
              "      <td>-1.373309</td>\n",
              "      <td>-1.881708</td>\n",
              "      <td>-3.670152</td>\n",
              "    </tr>\n",
              "    <tr>\n",
              "      <th>1</th>\n",
              "      <td>1.986107</td>\n",
              "      <td>-0.971786</td>\n",
              "      <td>-4.698268</td>\n",
              "      <td>1.564033</td>\n",
              "      <td>0.186146</td>\n",
              "      <td>2.836693</td>\n",
              "      <td>2.761240</td>\n",
              "      <td>-0.985578</td>\n",
              "    </tr>\n",
              "    <tr>\n",
              "      <th>2</th>\n",
              "      <td>-0.657648</td>\n",
              "      <td>2.225086</td>\n",
              "      <td>3.919493</td>\n",
              "      <td>-0.863649</td>\n",
              "      <td>-0.880978</td>\n",
              "      <td>2.049661</td>\n",
              "      <td>3.066881</td>\n",
              "      <td>-1.745847</td>\n",
              "    </tr>\n",
              "    <tr>\n",
              "      <th>3</th>\n",
              "      <td>1.704171</td>\n",
              "      <td>1.230175</td>\n",
              "      <td>-4.722394</td>\n",
              "      <td>-2.125237</td>\n",
              "      <td>-3.146305</td>\n",
              "      <td>-4.165887</td>\n",
              "      <td>-0.612767</td>\n",
              "      <td>-1.801953</td>\n",
              "    </tr>\n",
              "    <tr>\n",
              "      <th>4</th>\n",
              "      <td>-1.746265</td>\n",
              "      <td>3.711440</td>\n",
              "      <td>-1.929599</td>\n",
              "      <td>-4.301638</td>\n",
              "      <td>3.827924</td>\n",
              "      <td>-4.942098</td>\n",
              "      <td>-2.133024</td>\n",
              "      <td>3.708222</td>\n",
              "    </tr>\n",
              "    <tr>\n",
              "      <th>5</th>\n",
              "      <td>1.156902</td>\n",
              "      <td>4.482264</td>\n",
              "      <td>0.764544</td>\n",
              "      <td>-4.259451</td>\n",
              "      <td>0.148317</td>\n",
              "      <td>-4.791760</td>\n",
              "      <td>0.835161</td>\n",
              "      <td>1.680098</td>\n",
              "    </tr>\n",
              "    <tr>\n",
              "      <th>6</th>\n",
              "      <td>-1.694986</td>\n",
              "      <td>-1.757291</td>\n",
              "      <td>2.980538</td>\n",
              "      <td>4.926187</td>\n",
              "      <td>3.932371</td>\n",
              "      <td>-4.565220</td>\n",
              "      <td>2.202252</td>\n",
              "      <td>4.956588</td>\n",
              "    </tr>\n",
              "    <tr>\n",
              "      <th>7</th>\n",
              "      <td>-3.206661</td>\n",
              "      <td>-2.081767</td>\n",
              "      <td>4.263044</td>\n",
              "      <td>4.631670</td>\n",
              "      <td>-2.854211</td>\n",
              "      <td>-4.848206</td>\n",
              "      <td>1.666600</td>\n",
              "      <td>1.790950</td>\n",
              "    </tr>\n",
              "    <tr>\n",
              "      <th>8</th>\n",
              "      <td>-2.964198</td>\n",
              "      <td>0.955144</td>\n",
              "      <td>-4.013323</td>\n",
              "      <td>2.128461</td>\n",
              "      <td>4.971977</td>\n",
              "      <td>-2.890647</td>\n",
              "      <td>-1.962508</td>\n",
              "      <td>0.330423</td>\n",
              "    </tr>\n",
              "    <tr>\n",
              "      <th>9</th>\n",
              "      <td>-0.963567</td>\n",
              "      <td>2.847003</td>\n",
              "      <td>-2.636485</td>\n",
              "      <td>4.710868</td>\n",
              "      <td>-1.799248</td>\n",
              "      <td>-2.837786</td>\n",
              "      <td>-2.922128</td>\n",
              "      <td>0.845816</td>\n",
              "    </tr>\n",
              "  </tbody>\n",
              "</table>\n",
              "</div>"
            ],
            "text/plain": [
              "          0         1         2  ...         5         6         7\n",
              "0 -3.435779 -1.612324 -0.767411  ... -1.373309 -1.881708 -3.670152\n",
              "1  1.986107 -0.971786 -4.698268  ...  2.836693  2.761240 -0.985578\n",
              "2 -0.657648  2.225086  3.919493  ...  2.049661  3.066881 -1.745847\n",
              "3  1.704171  1.230175 -4.722394  ... -4.165887 -0.612767 -1.801953\n",
              "4 -1.746265  3.711440 -1.929599  ... -4.942098 -2.133024  3.708222\n",
              "5  1.156902  4.482264  0.764544  ... -4.791760  0.835161  1.680098\n",
              "6 -1.694986 -1.757291  2.980538  ... -4.565220  2.202252  4.956588\n",
              "7 -3.206661 -2.081767  4.263044  ... -4.848206  1.666600  1.790950\n",
              "8 -2.964198  0.955144 -4.013323  ... -2.890647 -1.962508  0.330423\n",
              "9 -0.963567  2.847003 -2.636485  ... -2.837786 -2.922128  0.845816\n",
              "\n",
              "[10 rows x 8 columns]"
            ]
          },
          "metadata": {
            "tags": []
          },
          "execution_count": 6
        }
      ]
    },
    {
      "cell_type": "code",
      "metadata": {
        "colab": {
          "base_uri": "https://localhost:8080/"
        },
        "id": "jm-SIKPNAlCN",
        "outputId": "e5c6951f-7456-438c-8440-7994e42eeb02"
      },
      "source": [
        "COEFFICIENTS"
      ],
      "execution_count": 7,
      "outputs": [
        {
          "output_type": "execute_result",
          "data": {
            "text/plain": [
              "[3.0, -2.0, 7.5, -10.0, 0.5, 4.4, 1.1, -0.75]"
            ]
          },
          "metadata": {
            "tags": []
          },
          "execution_count": 7
        }
      ]
    },
    {
      "cell_type": "markdown",
      "metadata": {
        "id": "3HB1MSvE__Hf"
      },
      "source": [
        "## Initial Fitness\n",
        "* Take our population and compute the original fitness"
      ]
    },
    {
      "cell_type": "code",
      "metadata": {
        "colab": {
          "base_uri": "https://localhost:8080/"
        },
        "id": "e7IcsvF6AC9N",
        "outputId": "37b3c202-ec77-4cc6-a497-4f285ee606c0"
      },
      "source": [
        "fitness = calculate_fitness(population)\n",
        "print(pd.DataFrame(fitness))"
      ],
      "execution_count": 8,
      "outputs": [
        {
          "output_type": "stream",
          "text": [
            "           0\n",
            "0  25.714403\n",
            "1 -26.624379\n",
            "2  44.870543\n",
            "3 -30.739059\n",
            "4  -9.076049\n",
            "5  21.483780\n",
            "6 -47.893955\n",
            "7 -42.069480\n",
            "8 -74.826856\n",
            "9 -92.701603\n"
          ],
          "name": "stdout"
        }
      ]
    },
    {
      "cell_type": "markdown",
      "metadata": {
        "id": "Q_pu4P_HAGmq"
      },
      "source": [
        "## Run Generations\n",
        "* For each generation we:\n",
        " * Compute the fitness\n",
        " * Pick best parents \n",
        " * Make a number of offspring from parents using crossover\n",
        " * Randomly mutate the offspring\n",
        " * Concat the best parents and offspring\n",
        "* Keep best individual and fitness eah time"
      ]
    },
    {
      "cell_type": "code",
      "metadata": {
        "id": "AFdcqKmQAK4i"
      },
      "source": [
        "generations = 20\n",
        "mating      = 4\n",
        "best_fitness = []\n",
        "best_individual = []\n",
        "\n",
        "for gen in range(generations):\n",
        "    fitness = calculate_fitness(population)\n",
        "    parents = create_mating_pool(population, fitness, mating)\n",
        "    number_offspring = population.shape[0] - parents.shape[0]\n",
        "    offspring = crossover(parents, number_offspring, features)\n",
        "    offspring = mutation(offspring)\n",
        "    population[0:parents.shape[0], :] = parents\n",
        "    population[parents.shape[0]:, :]  = offspring\n",
        "    \n",
        "    best_fitness.append(max(calculate_fitness(population)))\n",
        "    best_individual.extend(population[np.where(fitness == np.max(fitness))])"
      ],
      "execution_count": 9,
      "outputs": []
    },
    {
      "cell_type": "markdown",
      "metadata": {
        "id": "yZWMuOxTANdt"
      },
      "source": [
        "## Best Fitness"
      ]
    },
    {
      "cell_type": "code",
      "metadata": {
        "colab": {
          "base_uri": "https://localhost:8080/",
          "height": 858
        },
        "id": "FGUArEJ0AOAM",
        "outputId": "c1ef5ebb-f389-49b9-dd1f-31cc63fcc944"
      },
      "source": [
        "plt.figure(figsize=(10,8))\n",
        "plt.plot(best_fitness)\n",
        "plt.title('Fitness by Generation')\n",
        "plt.xlabel('Generations')\n",
        "plt.ylabel('Fitness')\n",
        "best_fitness"
      ],
      "execution_count": 10,
      "outputs": [
        {
          "output_type": "execute_result",
          "data": {
            "text/plain": [
              "[44.870542781654464,\n",
              " 50.0026517588708,\n",
              " 54.860824014927246,\n",
              " 56.26445621932548,\n",
              " 62.13306409387036,\n",
              " 70.97087307967158,\n",
              " 71.99849952663301,\n",
              " 76.35727737146263,\n",
              " 82.95039413906159,\n",
              " 88.1806591590288,\n",
              " 89.04678808286579,\n",
              " 89.52415327341235,\n",
              " 95.05510918303062,\n",
              " 95.05510918303062,\n",
              " 95.31741034614623,\n",
              " 95.31741034614623,\n",
              " 98.85208356097675,\n",
              " 103.88852570098358,\n",
              " 104.18039770998138,\n",
              " 109.4775760716155]"
            ]
          },
          "metadata": {
            "tags": []
          },
          "execution_count": 10
        },
        {
          "output_type": "display_data",
          "data": {
            "image/png": "[encoded data removed]",
            "text/plain": [
              "<Figure size 720x576 with 1 Axes>"
            ]
          },
          "metadata": {
            "tags": [],
            "needs_background": "light"
          }
        }
      ]
    },
    {
      "cell_type": "markdown",
      "metadata": {
        "id": "g1bAehjOAdB5"
      },
      "source": [
        "## Best Offspring"
      ]
    },
    {
      "cell_type": "code",
      "metadata": {
        "colab": {
          "base_uri": "https://localhost:8080/",
          "height": 648
        },
        "id": "euIH-EKcAf-h",
        "outputId": "4d49c46a-caa3-4989-fb28-5e20f279ab70"
      },
      "source": [
        "pd.DataFrame(best_individual)"
      ],
      "execution_count": 11,
      "outputs": [
        {
          "output_type": "execute_result",
          "data": {
            "text/html": [
              "<div>\n",
              "<style scoped>\n",
              "    .dataframe tbody tr th:only-of-type {\n",
              "        vertical-align: middle;\n",
              "    }\n",
              "\n",
              "    .dataframe tbody tr th {\n",
              "        vertical-align: top;\n",
              "    }\n",
              "\n",
              "    .dataframe thead th {\n",
              "        text-align: right;\n",
              "    }\n",
              "</style>\n",
              "<table border=\"1\" class=\"dataframe\">\n",
              "  <thead>\n",
              "    <tr style=\"text-align: right;\">\n",
              "      <th></th>\n",
              "      <th>0</th>\n",
              "      <th>1</th>\n",
              "      <th>2</th>\n",
              "      <th>3</th>\n",
              "      <th>4</th>\n",
              "      <th>5</th>\n",
              "      <th>6</th>\n",
              "      <th>7</th>\n",
              "    </tr>\n",
              "  </thead>\n",
              "  <tbody>\n",
              "    <tr>\n",
              "      <th>0</th>\n",
              "      <td>-3.435779</td>\n",
              "      <td>-1.612324</td>\n",
              "      <td>-0.767411</td>\n",
              "      <td>-4.565266</td>\n",
              "      <td>-3.480324</td>\n",
              "      <td>-1.373309</td>\n",
              "      <td>-1.881708</td>\n",
              "      <td>-3.670152</td>\n",
              "    </tr>\n",
              "    <tr>\n",
              "      <th>1</th>\n",
              "      <td>-0.657648</td>\n",
              "      <td>1.675945</td>\n",
              "      <td>3.919493</td>\n",
              "      <td>-0.863649</td>\n",
              "      <td>-0.880978</td>\n",
              "      <td>2.966439</td>\n",
              "      <td>3.066881</td>\n",
              "      <td>-1.745847</td>\n",
              "    </tr>\n",
              "    <tr>\n",
              "      <th>2</th>\n",
              "      <td>-0.657648</td>\n",
              "      <td>1.831705</td>\n",
              "      <td>3.919493</td>\n",
              "      <td>-0.863649</td>\n",
              "      <td>-0.880978</td>\n",
              "      <td>2.966439</td>\n",
              "      <td>3.066881</td>\n",
              "      <td>-1.745847</td>\n",
              "    </tr>\n",
              "    <tr>\n",
              "      <th>3</th>\n",
              "      <td>-0.657648</td>\n",
              "      <td>2.042301</td>\n",
              "      <td>3.919493</td>\n",
              "      <td>-0.863649</td>\n",
              "      <td>-0.880978</td>\n",
              "      <td>2.257080</td>\n",
              "      <td>3.066881</td>\n",
              "      <td>-1.745847</td>\n",
              "    </tr>\n",
              "    <tr>\n",
              "      <th>4</th>\n",
              "      <td>-0.657648</td>\n",
              "      <td>1.675945</td>\n",
              "      <td>3.919493</td>\n",
              "      <td>-1.349466</td>\n",
              "      <td>-0.880978</td>\n",
              "      <td>2.966439</td>\n",
              "      <td>3.066881</td>\n",
              "      <td>-1.745847</td>\n",
              "    </tr>\n",
              "    <tr>\n",
              "      <th>5</th>\n",
              "      <td>-0.657648</td>\n",
              "      <td>1.675945</td>\n",
              "      <td>4.754401</td>\n",
              "      <td>-1.282699</td>\n",
              "      <td>-0.880978</td>\n",
              "      <td>2.966439</td>\n",
              "      <td>3.066881</td>\n",
              "      <td>-1.745847</td>\n",
              "    </tr>\n",
              "    <tr>\n",
              "      <th>6</th>\n",
              "      <td>-0.657648</td>\n",
              "      <td>1.675945</td>\n",
              "      <td>5.536882</td>\n",
              "      <td>-0.863649</td>\n",
              "      <td>-0.880978</td>\n",
              "      <td>2.966439</td>\n",
              "      <td>3.066881</td>\n",
              "      <td>-1.745847</td>\n",
              "    </tr>\n",
              "    <tr>\n",
              "      <th>7</th>\n",
              "      <td>-0.657648</td>\n",
              "      <td>1.675945</td>\n",
              "      <td>5.536882</td>\n",
              "      <td>-1.479957</td>\n",
              "      <td>-0.880978</td>\n",
              "      <td>2.966439</td>\n",
              "      <td>3.066881</td>\n",
              "      <td>-1.745847</td>\n",
              "    </tr>\n",
              "    <tr>\n",
              "      <th>8</th>\n",
              "      <td>-0.657648</td>\n",
              "      <td>0.615757</td>\n",
              "      <td>5.536882</td>\n",
              "      <td>-1.747430</td>\n",
              "      <td>-0.880978</td>\n",
              "      <td>2.966439</td>\n",
              "      <td>3.500433</td>\n",
              "      <td>-1.745847</td>\n",
              "    </tr>\n",
              "    <tr>\n",
              "      <th>9</th>\n",
              "      <td>-0.005469</td>\n",
              "      <td>1.234569</td>\n",
              "      <td>5.536882</td>\n",
              "      <td>-2.183307</td>\n",
              "      <td>-0.880978</td>\n",
              "      <td>2.966439</td>\n",
              "      <td>3.066881</td>\n",
              "      <td>-1.745847</td>\n",
              "    </tr>\n",
              "    <tr>\n",
              "      <th>10</th>\n",
              "      <td>-0.657648</td>\n",
              "      <td>0.021063</td>\n",
              "      <td>5.536882</td>\n",
              "      <td>-2.733344</td>\n",
              "      <td>-0.880978</td>\n",
              "      <td>2.507937</td>\n",
              "      <td>3.500433</td>\n",
              "      <td>-1.745847</td>\n",
              "    </tr>\n",
              "    <tr>\n",
              "      <th>11</th>\n",
              "      <td>-0.657648</td>\n",
              "      <td>0.615757</td>\n",
              "      <td>5.536882</td>\n",
              "      <td>-3.122394</td>\n",
              "      <td>-0.880978</td>\n",
              "      <td>2.623798</td>\n",
              "      <td>3.066881</td>\n",
              "      <td>-1.745847</td>\n",
              "    </tr>\n",
              "    <tr>\n",
              "      <th>12</th>\n",
              "      <td>-0.657648</td>\n",
              "      <td>-0.294444</td>\n",
              "      <td>5.536882</td>\n",
              "      <td>-3.208680</td>\n",
              "      <td>-0.880978</td>\n",
              "      <td>4.223475</td>\n",
              "      <td>3.066881</td>\n",
              "      <td>-1.745847</td>\n",
              "    </tr>\n",
              "    <tr>\n",
              "      <th>13</th>\n",
              "      <td>-1.296983</td>\n",
              "      <td>0.615757</td>\n",
              "      <td>5.536882</td>\n",
              "      <td>-3.208680</td>\n",
              "      <td>-0.880978</td>\n",
              "      <td>4.025636</td>\n",
              "      <td>3.066881</td>\n",
              "      <td>-1.745847</td>\n",
              "    </tr>\n",
              "    <tr>\n",
              "      <th>14</th>\n",
              "      <td>-0.657648</td>\n",
              "      <td>-0.294444</td>\n",
              "      <td>5.536882</td>\n",
              "      <td>-3.208680</td>\n",
              "      <td>-0.168331</td>\n",
              "      <td>4.025636</td>\n",
              "      <td>3.066881</td>\n",
              "      <td>-1.745847</td>\n",
              "    </tr>\n",
              "    <tr>\n",
              "      <th>15</th>\n",
              "      <td>-0.657648</td>\n",
              "      <td>-0.388437</td>\n",
              "      <td>5.536882</td>\n",
              "      <td>-3.208680</td>\n",
              "      <td>-0.168331</td>\n",
              "      <td>4.025636</td>\n",
              "      <td>3.066881</td>\n",
              "      <td>-1.745847</td>\n",
              "    </tr>\n",
              "    <tr>\n",
              "      <th>16</th>\n",
              "      <td>-0.657648</td>\n",
              "      <td>0.295641</td>\n",
              "      <td>5.536882</td>\n",
              "      <td>-3.208680</td>\n",
              "      <td>-0.880978</td>\n",
              "      <td>4.223475</td>\n",
              "      <td>3.066881</td>\n",
              "      <td>-1.745847</td>\n",
              "    </tr>\n",
              "    <tr>\n",
              "      <th>17</th>\n",
              "      <td>-0.657648</td>\n",
              "      <td>-0.294444</td>\n",
              "      <td>6.043145</td>\n",
              "      <td>-3.208680</td>\n",
              "      <td>-0.880978</td>\n",
              "      <td>4.223475</td>\n",
              "      <td>3.066881</td>\n",
              "      <td>-1.745847</td>\n",
              "    </tr>\n",
              "    <tr>\n",
              "      <th>18</th>\n",
              "      <td>-1.056747</td>\n",
              "      <td>-0.294444</td>\n",
              "      <td>5.972893</td>\n",
              "      <td>-3.738783</td>\n",
              "      <td>-0.168331</td>\n",
              "      <td>4.025636</td>\n",
              "      <td>3.066881</td>\n",
              "      <td>-1.745847</td>\n",
              "    </tr>\n",
              "    <tr>\n",
              "      <th>19</th>\n",
              "      <td>0.031290</td>\n",
              "      <td>-0.688923</td>\n",
              "      <td>6.337844</td>\n",
              "      <td>-2.437784</td>\n",
              "      <td>0.032211</td>\n",
              "      <td>4.223475</td>\n",
              "      <td>2.890250</td>\n",
              "      <td>-1.745847</td>\n",
              "    </tr>\n",
              "  </tbody>\n",
              "</table>\n",
              "</div>"
            ],
            "text/plain": [
              "           0         1         2  ...         5         6         7\n",
              "0  -3.435779 -1.612324 -0.767411  ... -1.373309 -1.881708 -3.670152\n",
              "1  -0.657648  1.675945  3.919493  ...  2.966439  3.066881 -1.745847\n",
              "2  -0.657648  1.831705  3.919493  ...  2.966439  3.066881 -1.745847\n",
              "3  -0.657648  2.042301  3.919493  ...  2.257080  3.066881 -1.745847\n",
              "4  -0.657648  1.675945  3.919493  ...  2.966439  3.066881 -1.745847\n",
              "5  -0.657648  1.675945  4.754401  ...  2.966439  3.066881 -1.745847\n",
              "6  -0.657648  1.675945  5.536882  ...  2.966439  3.066881 -1.745847\n",
              "7  -0.657648  1.675945  5.536882  ...  2.966439  3.066881 -1.745847\n",
              "8  -0.657648  0.615757  5.536882  ...  2.966439  3.500433 -1.745847\n",
              "9  -0.005469  1.234569  5.536882  ...  2.966439  3.066881 -1.745847\n",
              "10 -0.657648  0.021063  5.536882  ...  2.507937  3.500433 -1.745847\n",
              "11 -0.657648  0.615757  5.536882  ...  2.623798  3.066881 -1.745847\n",
              "12 -0.657648 -0.294444  5.536882  ...  4.223475  3.066881 -1.745847\n",
              "13 -1.296983  0.615757  5.536882  ...  4.025636  3.066881 -1.745847\n",
              "14 -0.657648 -0.294444  5.536882  ...  4.025636  3.066881 -1.745847\n",
              "15 -0.657648 -0.388437  5.536882  ...  4.025636  3.066881 -1.745847\n",
              "16 -0.657648  0.295641  5.536882  ...  4.223475  3.066881 -1.745847\n",
              "17 -0.657648 -0.294444  6.043145  ...  4.223475  3.066881 -1.745847\n",
              "18 -1.056747 -0.294444  5.972893  ...  4.025636  3.066881 -1.745847\n",
              "19  0.031290 -0.688923  6.337844  ...  4.223475  2.890250 -1.745847\n",
              "\n",
              "[20 rows x 8 columns]"
            ]
          },
          "metadata": {
            "tags": []
          },
          "execution_count": 11
        }
      ]
    },
    {
      "cell_type": "code",
      "metadata": {
        "colab": {
          "base_uri": "https://localhost:8080/"
        },
        "id": "pjkph04BvYus",
        "outputId": "09df8b09-49c2-43a9-fe1f-db841024464f"
      },
      "source": [
        "COEFFICIENTS"
      ],
      "execution_count": 12,
      "outputs": [
        {
          "output_type": "execute_result",
          "data": {
            "text/plain": [
              "[3.0, -2.0, 7.5, -10.0, 0.5, 4.4, 1.1, -0.75]"
            ]
          },
          "metadata": {
            "tags": []
          },
          "execution_count": 12
        }
      ]
    },
    {
      "cell_type": "markdown",
      "metadata": {
        "id": "Ydm5n5n4t7FS"
      },
      "source": [
        "# DrawData"
      ]
    },
    {
      "cell_type": "code",
      "metadata": {
        "colab": {
          "base_uri": "https://localhost:8080/",
          "height": 572
        },
        "id": "7_GmDzBUt-_j",
        "outputId": "fd9979c7-958b-418f-a940-0b26d1f97f94"
      },
      "source": [
        "draw_scatter()"
      ],
      "execution_count": 13,
      "outputs": [
        {
          "output_type": "execute_result",
          "data": {
            "text/html": [
              "\n",
              "        <iframe\n",
              "            width=\"800\"\n",
              "            height=\"550\"\n",
              "            src=\"https://drawdata.xyz/scatter.html\"\n",
              "            frameborder=\"0\"\n",
              "            allowfullscreen\n",
              "        ></iframe>\n",
              "        "
            ],
            "text/plain": [
              "<IPython.lib.display.IFrame at 0x7f6f1ffaa0d0>"
            ]
          },
          "metadata": {
            "tags": []
          },
          "execution_count": 13
        }
      ]
    },
    {
      "cell_type": "code",
      "metadata": {
        "id": "Rb1VLk1awfS4"
      },
      "source": [
        "data = \"\"\"\n",
        "x,y,z\n",
        "299.686157236707,439.8800777329246,a\n",
        "368.0405900772406,442.96184389179643,a\n",
        "280.6014710198086,439.5810384313749,a\n",
        "263.9495402260217,428.7248645983476,a\n",
        "227.8442955760093,410.0157723845837,a\n",
        "205.9134351752488,401.3290592653228,a\n",
        "212.7698675332152,436.95748632016756,a\n",
        "218.27034146809268,420.6861665060693,a\n",
        "147.84039854047944,403.81918645403533,a\n",
        "161.23689235695974,424.24026266335846,a\n",
        "172.13013095961392,400.60279320699647,a\n",
        "140.28921012464173,424.4755769197605,a\n",
        "179.78039910633686,385.2017491417446,a\n",
        "118.32193997148192,416.10299193212836,a\n",
        "143.98451022953955,380.52452043932755,a\n",
        "97.82127033051403,376.9691680442222,a\n",
        "122.75857953543715,341.1826610792443,a\n",
        "160.31344671796123,403.73722154964565,a\n",
        "132.20659101378183,349.7614569970869,a\n",
        "151.3718370067915,364.3305982473637,a\n",
        "146.14383794257287,335.5773468205242,a\n",
        "167.2524572068147,390.26157940399764,a\n",
        "175.7946368104001,366.98843739967145,a\n",
        "288.84731187700896,376.41792771013615,a\n",
        "243.53506461022778,359.8447010814375,a\n",
        "302.9532341523018,372.05558672017173,a\n",
        "344.89088776781864,365.680244985022,a\n",
        "357.3281912706488,320.1160241780442,a\n",
        "411.5512616675002,351.9800986282596,a\n",
        "371.8687352961686,372.8980920936288,a\n",
        "385.89649823985224,379.02726459085426,a\n",
        "407.6523094033869,387.1098302628808,a\n",
        "387.66198517063845,333.5967868859637,a\n",
        "394.89255672748374,292.91477746920935,a\n",
        "450.1116708224057,312.53200733248434,a\n",
        "431.42370119965824,274.81904147076784,a\n",
        "408.74609314322475,338.3411741056271,a\n",
        "452.9072186409467,318.70605855004726,a\n",
        "406.6400917842944,292.19250285555245,a\n",
        "406.14842158675464,308.5073250991725,a\n",
        "380.25023686284516,276.25939618823656,a\n",
        "395.27798726515954,311.848362669175,a\n",
        "348.1866966817719,290.69351562366046,a\n",
        "376.5420341532025,289.365230305948,a\n",
        "303.1627737409845,309.97875448890636,a\n",
        "274.70735663569207,262.5115743340739,a\n",
        "266.1858321460801,293.1910806900292,a\n",
        "220.05303593879154,322.9767181606694,a\n",
        "196.0149715040132,276.77113013533335,a\n",
        "173.7282107774992,268.22356664097526,a\n",
        "161.64104363389072,278.0356094971072,a\n",
        "128.14391988971386,322.18664324041913,a\n",
        "157.5111510652384,289.7494922676732,a\n",
        "141.72389979428894,265.3507721811089,a\n",
        "164.20358453616026,273.940381261419,a\n",
        "141.23411987076918,229.83871152587676,a\n",
        "126.20277366605913,236.19439332112205,a\n",
        "131.95812695723475,231.21395946200596,a\n",
        "118.0676561272258,249.80036403523707,a\n",
        "112.43980017735265,233.60228466250015,a\n",
        "135.3789125227371,222.09277650204035,a\n",
        "136.0607251805776,195.54420339377123,a\n",
        "87.74844019662437,147.83789449781705,a\n",
        "134.67604447756213,202.77890650538825,a\n",
        "107.35366702042097,183.0155867588041,a\n",
        "107.61905089166272,172.24097524816875,a\n",
        "125.28300024817553,180.58804426737936,a\n",
        "203.63396812749426,185.15166038816466,a\n",
        "171.99030738945987,206.14878229758665,a\n",
        "244.8135219243198,200.63262440782262,a\n",
        "337.9167247124841,173.18840944451563,a\n",
        "289.8259634659953,140.6265052001586,a\n",
        "295.6787402897381,197.70672108449958,a\n",
        "401.91541634944656,210.30793582912673,a\n",
        "315.59521910841625,241.01221567355367,a\n",
        "402.57274662686024,172.56467629352852,a\n",
        "382.1994403283585,201.90645448566062,a\n",
        "363.112656958082,172.1647593472029,a\n",
        "433.1665562827326,125.09452629172705,a\n",
        "388.4700423446952,189.8652287647197,a\n",
        "437.400097285252,138.44807569569895,a\n",
        "424.3288874016399,182.12932987580325,a\n",
        "408.19464341446366,164.8044174155117,a\n",
        "425.7533168198167,177.07757495867065,a\n",
        "436.61743463102584,160.76841584724775,a\n",
        "391.5909485835765,178.77947417438463,a\n",
        "440.24191180792667,164.34897686332584,a\n",
        "424.13947590403257,177.7617169470064,a\n",
        "418.9882496659897,165.1793244608603,a\n",
        "420.673425385099,129.6471751862453,a\n",
        "434.06982825469356,150.37794360194584,a\n",
        "404.9877655532276,156.5787633093796,a\n",
        "406.59923296367725,122.2620132680276,a\n",
        "332.9391182080718,123.08403354946591,a\n",
        "398.78904294533015,107.56419681118439,a\n",
        "357.89822079161877,80.69958975595529,a\n",
        "346.3763484263752,144.87596596598064,a\n",
        "320.5210032355195,91.70639433518011,a\n",
        "347.60982175146154,137.99445013129684,a\n",
        "351.7826564322481,116.24457899773569,a\n",
        "277.79353761816924,110.09900784263255,a\n",
        "316.8116635008026,111.32398439723221,a\n",
        "307.33669689493644,105.56644429536271,a\n",
        "288.3903315053862,121.59304084722083,a\n",
        "245.31116398439897,109.6120375377431,a\n",
        "242.25417634373304,102.49185019902859,a\n",
        "243.75642482666055,108.59384287004946,a\n",
        "236.46631267784454,115.60957985903792,a\n",
        "237.79300496904102,101.38318510052699,a\n",
        "203.54448093288843,111.37381574613465,a\n",
        "603.5119811774017,450.10090668847175,b\n",
        "601.6260704541563,401.4018537453316,b\n",
        "626.8530650707856,418.32016295969623,b\n",
        "580.0322204627469,443.59988921451134,b\n",
        "498.6652607926793,460.6674304839188,b\n",
        "515.6697863364626,433.90730628885524,b\n",
        "522.4751305294717,435.01840251660934,b\n",
        "496.2727187421992,414.4300129812075,b\n",
        "476.18622210485336,438.23726838040255,b\n",
        "504.2685518166223,382.9681301073889,b\n",
        "392.92334696217563,443.27156810212153,b\n",
        "484.5267616491739,436.475087102243,b\n",
        "383.6947140751764,432.4805091913774,b\n",
        "431.38398778164105,424.39873636659246,b\n",
        "438.9783527988446,475.7069395134296,b\n",
        "403.5030686855281,439.46022427710494,b\n",
        "336.9800925123209,430.28370062326206,b\n",
        "359.32818563574307,439.8148337921752,b\n",
        "340.01453244932463,415.2741791567612,b\n",
        "365.20385693107306,422.1657060037287,b\n",
        "374.3174673725308,449.0734078170733,b\n",
        "333.8377859945948,438.83958190035725,b\n",
        "355.13620398606486,427.42256534061295,b\n",
        "298.31896235632775,432.6912264002108,b\n",
        "345.32677233333266,416.3284218103838,b\n",
        "391.98703726283736,399.6867203850625,b\n",
        "382.1068130791846,365.2521849396495,b\n",
        "387.02246302529517,437.18351220578165,b\n",
        "381.59430808127297,401.2769204615538,b\n",
        "392.0229058230823,369.72998341264326,b\n",
        "426.7816961384073,349.22159179871073,b\n",
        "413.82044700726755,290.057934510162,b\n",
        "451.0203859822033,357.59769083296237,b\n",
        "483.2863191765212,333.80567039291816,b\n",
        "525.2646704591345,331.62778717296817,b\n",
        "531.393045583009,304.97557193996334,b\n",
        "583.2676010219433,351.3814379974438,b\n",
        "535.6594844007174,344.3068769009209,b\n",
        "601.004209583518,321.63218095845366,b\n",
        "655.5802529727972,290.6315807851713,b\n",
        "606.995231448893,330.0649649096061,b\n",
        "629.7265519476106,309.1835228189996,b\n",
        "641.4526618886481,318.49782386589544,b\n",
        "632.7645963946793,286.2809752124682,b\n",
        "647.0343112959058,270.0018197552795,b\n",
        "624.6962145778576,283.4907832982329,b\n",
        "621.7505114609069,298.10038992670036,b\n",
        "618.5212510765751,286.4793592269418,b\n",
        "619.3262320696609,277.8137866331991,b\n",
        "635.4867969973689,274.3602859505956,b\n",
        "593.4244561532539,266.85249682112646,b\n",
        "584.6459429024661,268.7520281578306,b\n",
        "542.7211474102928,269.64912131393294,b\n",
        "555.930589821258,256.7614316479407,b\n",
        "550.1947007369257,283.21857058317755,b\n",
        "520.3036210829329,305.479886166508,b\n",
        "488.4205792698994,276.4625878480527,b\n",
        "433.84589755353284,347.9223120267893,b\n",
        "439.08592654533436,340.71186953646276,b\n",
        "435.9153393235101,263.2390839590429,b\n",
        "424.99274448999506,298.41969209017236,b\n",
        "476.6451097229392,321.6169200911837,b\n",
        "412.4358645487253,266.79116847922563,b\n",
        "441.50632848882475,270.80153366658806,b\n",
        "448.95176724255805,323.78834983115223,b\n",
        "411.0478395569194,267.34337234055306,b\n",
        "444.1558850780872,248.59441519486307,b\n",
        "428.94675494903123,253.23690746580036,b\n",
        "362.9555931953087,259.7345082225445,b\n",
        "394.0410517675023,292.72217041235587,b\n",
        "404.63773003820376,302.2543467675641,b\n",
        "399.4786099145089,313.13886236006994,b\n",
        "360.7837012163821,244.65260181668216,b\n",
        "420.6942224157093,238.95981681050097,b\n",
        "396.60171650768956,253.44082427509616,b\n",
        "384.10802701352657,238.60830291202797,b\n",
        "401.18370752676327,202.02459021663861,b\n",
        "399.00071542153387,242.23914464181308,b\n",
        "394.1775543025218,254.2803734399006,b\n",
        "361.5793016169888,239.51657551917134,b\n",
        "384.08965661217303,237.04275932468033,b\n",
        "320.27682401435203,252.95753835703542,b\n",
        "388.83822112681844,209.13411792573214,b\n",
        "392.9747106027026,229.63976049345996,b\n",
        "351.8786315771009,234.18928170848113,b\n",
        "341.50812444523353,230.9955986815449,b\n",
        "387.7245280489327,228.3062578771881,b\n",
        "391.40740414815247,246.26997663962138,b\n",
        "380.69344052639536,214.59660810625178,b\n",
        "368.1413543645268,185.46805291130863,b\n",
        "387.66521224879244,214.9182437224478,b\n",
        "392.8166209326397,262.2032341055408,b\n",
        "423.01921891379243,218.70592929119346,b\n",
        "416.0866225642095,233.96099997454132,b\n",
        "384.21857852626283,239.16540888010627,b\n",
        "437.22720569214346,232.79616957555442,b\n",
        "444.43994603151714,237.77309237137774,b\n",
        "463.0269089939366,228.84167331562202,b\n",
        "539.8998749236149,202.03371757045954,b\n",
        "524.8918904877899,220.88728338898443,b\n",
        "547.5345558871715,229.29996773679323,b\n",
        "604.8173055341485,230.0475064747232,b\n",
        "571.4760774805092,218.5233307290203,b\n",
        "593.7467265337895,157.65030996186408,b\n",
        "606.6666420677636,205.659441329843,b\n",
        "614.6229519154824,208.88279163360346,b\n",
        "548.9053874274848,234.65538733320062,b\n",
        "622.2878568647868,201.83350130490123,b\n",
        "590.8021796394768,186.85148647100863,b\n",
        "570.4983469865064,167.5583221938623,b\n",
        "608.7218697239002,243.43356794302423,b\n",
        "593.260779786787,198.74564258098462,b\n",
        "600.0294384037304,271.02592541660476,b\n",
        "638.4887734604608,219.29410510259208,b\n",
        "622.149029209405,194.0547297212326,b\n",
        "596.3000107483288,230.78008291579187,b\n",
        "582.1720168542068,218.10232693293477,b\n",
        "611.0151244667984,212.79268816593964,b\n",
        "601.3893273347635,242.10841082908718,b\n",
        "560.3825625898035,205.121489496376,b\n",
        "559.6419970316978,201.49586597584312,b\n",
        "502.00537331070444,234.1176367740914,b\n",
        "557.688807934307,241.42943584585845,b\n",
        "505.5937216169527,240.65773775537963,b\n",
        "489.99205656134137,203.7452960520801,b\n",
        "465.8497543782023,270.62185276770015,b\n",
        "427.32796078587427,228.272590545818,b\n",
        "439.0247889218029,239.8387313810548,b\n",
        "460.27711897171827,256.112650454193,b\n",
        "465.2138282616278,221.34741289551124,b\n",
        "436.0715031116931,216.06045043186361,b\n",
        "413.1266394450583,237.73754244115304,b\n",
        "452.18974731600997,177.5141988254211,b\n",
        "440.46138185963554,248.51078329496653,b\n",
        "474.0258352568568,202.04986020173556,b\n",
        "425.27709676018725,256.23700653486566,b\n",
        "415.6962392942687,294.19336438843425,b\n",
        "474.700953618443,250.7572364945786,b\n",
        "418.8237567187957,257.41388095702575,b\n",
        "414.45054281530975,200.13213842974108,b\n",
        "366.6247410456543,206.51496732098104,b\n",
        "439.7256330480483,216.52464125213572,b\n",
        "393.2220645453795,215.2250149303377,b\n",
        "464.26761669346905,237.5840475411976,b\n",
        "429.4657764399527,248.22050612025717,b\n",
        "399.29303184746533,233.44383299923402,b\n",
        "426.26081299155766,238.81784489217637,b\n",
        "381.6653781486385,206.43147186021514,b\n",
        "415.78906856620415,238.7766203115653,b\n",
        "409.5082150565188,229.31819750585402,b\n",
        "439.6832184223224,220.57506965942724,b\n",
        "388.0326248293055,249.2167593998398,b\n",
        "391.8210796625013,255.80369687422547,b\n",
        "421.78813027488593,183.10715041591664,b\n",
        "382.8090162797204,244.58595205885905,b\n",
        "405.214325202813,171.68771413517686,b\n",
        "394.3776073062856,191.55515739123507,b\n",
        "408.6374722621929,158.6164658137743,b\n",
        "366.75952323746833,198.93483371709436,b\n",
        "433.9047563188968,217.27350757968577,b\n",
        "397.37984453392727,158.87614963345067,b\n",
        "369.3611808032192,140.83615845790297,b\n",
        "430.6262012721385,151.76119832421705,b\n",
        "360.1448574998329,184.6178300683386,b\n",
        "389.7071678724026,161.76661315697805,b\n",
        "384.0051560336722,136.69782725615426,b\n",
        "356.7836730280216,105.58297583967152,b\n",
        "400.7407117607819,142.61909641277663,b\n",
        "405.41204675667433,128.59310339411962,b\n",
        "355.36497649113574,159.7313069517591,b\n",
        "397.78598494423716,142.54321217330215,b\n",
        "415.5144231972311,133.23176857775627,b\n",
        "359.4922159427606,131.79013903014322,b\n",
        "416.6787234036181,153.36322565165403,b\n",
        "383.5335038866491,179.28211694228133,b\n",
        "352.2479855602126,138.0718812590469,b\n",
        "397.2273898964644,91.30800566075277,b\n",
        "391.99371532924295,84.37785447133552,b\n",
        "385.62896144091064,122.01940291800491,b\n",
        "357.1859536107212,147.23427093760864,b\n",
        "375.8328705125661,144.72483956802,b\n",
        "437.22164024622305,110.81497713116164,b\n",
        "422.2307978121806,131.6395265857555,b\n",
        "392.86328644960105,128.3508464313063,b\n",
        "418.5609118423014,141.5087407728014,b\n",
        "450.1244137509901,90.40225724480086,b\n",
        "432.51086923718555,91.74400589263422,b\n",
        "445.48782150550846,127.0419212532687,b\n",
        "487.870344154269,136.98882413294007,b\n",
        "491.48146503154106,107.49990097115642,b\n",
        "494.8832212501097,126.49194204056658,b\n",
        "434.8602919302878,51.99632241234485,b\n",
        "459.66933959102323,78.30552034570394,b\n",
        "479.26735999381356,136.30801685577768,b\n",
        "493.5966135757342,107.66924933626126,b\n",
        "499.23728869325083,75.96186856842894,b\n",
        "534.0957678069296,104.79897463762643,b\n",
        "509.01656903353177,88.56306952398143,b\n",
        "493.56464373967896,83.16929265392793,b\n",
        "470.62357864727704,93.94893326103767,b\n",
        "518.1634887619846,57.26399048363214,b\n",
        "508.0068511473103,64.20645266242354,b\n",
        "492.5163821921779,122.55766802490228,b\n",
        "493.40612183489594,69.16978132720135,b\n",
        "477.7650378626469,79.44118322657584,b\n",
        "475.794402207927,49.164236985632044,b\n",
        "524.1667037693917,132.24180292714794,b\n",
        "490.32090619354756,52.211347473778346,b\n",
        "\"\"\""
      ],
      "execution_count": 14,
      "outputs": []
    },
    {
      "cell_type": "code",
      "metadata": {
        "id": "YUhmywefwneK"
      },
      "source": [
        "df = pd.read_csv(StringIO(data))\n",
        "df.columns = ['X_Value', 'Y_Value', 'Target']"
      ],
      "execution_count": 15,
      "outputs": []
    },
    {
      "cell_type": "markdown",
      "metadata": {
        "id": "4LB03nX5A8R9"
      },
      "source": [
        "# GP Learn"
      ]
    },
    {
      "cell_type": "code",
      "metadata": {
        "id": "2kG73cROGk5d"
      },
      "source": [
        "X = df[['X_Value', 'Y_Value']]\n",
        "y = df.Target\n",
        "X_train, X_test, y_train, y_test = train_test_split(X, y, test_size=.2, shuffle=True)"
      ],
      "execution_count": 16,
      "outputs": []
    },
    {
      "cell_type": "code",
      "metadata": {
        "colab": {
          "base_uri": "https://localhost:8080/"
        },
        "id": "JdosRIfOA-aO",
        "outputId": "c52e6ddf-e6de-420f-d202-6f28d697a219"
      },
      "source": [
        "est = SymbolicClassifier(parsimony_coefficient=.01,\n",
        "                         feature_names=['X_Value', 'Y_Value'],\n",
        "                         random_state=1, verbose=1)\n",
        "est.fit(X_train, y_train)"
      ],
      "execution_count": 17,
      "outputs": [
        {
          "output_type": "stream",
          "text": [
            "    |   Population Average    |             Best Individual              |\n",
            "---- ------------------------- ------------------------------------------ ----------\n",
            " Gen   Length          Fitness   Length          Fitness      OOB Fitness  Time Left\n",
            "   0    37.62          11.9609       15         0.514391              N/A     24.88s\n",
            "   1    11.21           4.6539        7         0.426817              N/A     16.61s\n",
            "   2     6.31          4.26085        7         0.426817              N/A     16.47s\n",
            "   3     5.47          3.08014        7         0.426817              N/A     14.50s\n",
            "   4     6.22          2.50037        7         0.426817              N/A     14.09s\n",
            "   5     5.61           2.2185        5         0.426817              N/A     12.87s\n",
            "   6     5.09          1.99345        5         0.426817              N/A     12.13s\n",
            "   7     5.14          1.97885        5         0.426817              N/A     10.88s\n",
            "   8     4.95          1.97119        5         0.426817              N/A     10.48s\n",
            "   9     4.98          2.05748        5         0.426817              N/A      9.36s\n",
            "  10     5.09          2.05694        5         0.426817              N/A      8.17s\n",
            "  11     5.17          2.09351        5         0.426817              N/A      6.89s\n",
            "  12     4.97          2.26568        5         0.426817              N/A      6.27s\n",
            "  13     5.00          2.25541        5         0.426817              N/A      5.36s\n",
            "  14     4.98          1.96264        5         0.426817              N/A      4.59s\n",
            "  15     5.06          2.01828        5         0.426817              N/A      3.75s\n",
            "  16     4.96          2.02637        5         0.426817              N/A      2.66s\n",
            "  17     5.08            2.239        5         0.426817              N/A      1.77s\n",
            "  18     5.00          2.47347        5         0.426817              N/A      0.95s\n",
            "  19     5.00          1.98927        5         0.426817              N/A      0.00s\n"
          ],
          "name": "stdout"
        },
        {
          "output_type": "execute_result",
          "data": {
            "text/plain": [
              "SymbolicClassifier(const_range=(-1.0, 1.0),\n",
              "                   feature_names=['X_Value', 'Y_Value'],\n",
              "                   function_set=('add', 'sub', 'mul', 'div'), generations=20,\n",
              "                   init_depth=(2, 6), init_method='half and half',\n",
              "                   low_memory=False, max_samples=1.0, metric='log loss',\n",
              "                   n_jobs=1, p_crossover=0.9, p_hoist_mutation=0.01,\n",
              "                   p_point_mutation=0.01, p_point_replace=0.05,\n",
              "                   p_subtree_mutation=0.01, parsimony_coefficient=0.01,\n",
              "                   population_size=1000, random_state=1, stopping_criteria=0.0,\n",
              "                   tournament_size=20, transformer='sigmoid', verbose=1,\n",
              "                   warm_start=False)"
            ]
          },
          "metadata": {
            "tags": []
          },
          "execution_count": 17
        }
      ]
    },
    {
      "cell_type": "markdown",
      "metadata": {
        "id": "HONZ62BY-NCd"
      },
      "source": [
        "## Predict"
      ]
    },
    {
      "cell_type": "code",
      "metadata": {
        "colab": {
          "base_uri": "https://localhost:8080/"
        },
        "id": "y_NnzfYDxi9w",
        "outputId": "98690de0-0db6-474a-8e41-9796608c907c"
      },
      "source": [
        "pred = est.predict(X_test)\n",
        "accuracy_score(y_test, pred)"
      ],
      "execution_count": 18,
      "outputs": [
        {
          "output_type": "execute_result",
          "data": {
            "text/plain": [
              "0.828125"
            ]
          },
          "metadata": {
            "tags": []
          },
          "execution_count": 18
        }
      ]
    },
    {
      "cell_type": "code",
      "metadata": {
        "colab": {
          "base_uri": "https://localhost:8080/"
        },
        "id": "-EsBZb3jHtbv",
        "outputId": "8f2c90f5-4e28-4d5e-9d47-a9b9e9398059"
      },
      "source": [
        "lr = LogisticRegression(solver='lbfgs', multi_class='auto')\n",
        "lr.fit(X_train, y_train)\n",
        "pred = lr.predict(X_test)\n",
        "accuracy_score(pred, y_test)"
      ],
      "execution_count": 19,
      "outputs": [
        {
          "output_type": "execute_result",
          "data": {
            "text/plain": [
              "0.859375"
            ]
          },
          "metadata": {
            "tags": []
          },
          "execution_count": 19
        }
      ]
    },
    {
      "cell_type": "markdown",
      "metadata": {
        "id": "Ao759nXdxXII"
      },
      "source": [
        "## Visualize"
      ]
    },
    {
      "cell_type": "code",
      "metadata": {
        "colab": {
          "base_uri": "https://localhost:8080/",
          "height": 272
        },
        "id": "F49iFAW9-Pr2",
        "outputId": "476b0c1c-deb1-43e1-f351-c6187288b984"
      },
      "source": [
        "# Syntax Tree\n",
        "dot_data = est._program.export_graphviz()\n",
        "graph = graphviz.Source(dot_data)\n",
        "graph"
      ],
      "execution_count": 20,
      "outputs": [
        {
          "output_type": "execute_result",
          "data": {
            "text/plain": [
              "<graphviz.files.Source at 0x7f6f1f3a7790>"
            ],
            "image/svg+xml": "<?xml version=\"1.0\" encoding=\"UTF-8\" standalone=\"no\"?>\n<!DOCTYPE svg PUBLIC \"-//W3C//DTD SVG 1.1//EN\"\n \"http://www.w3.org/Graphics/SVG/1.1/DTD/svg11.dtd\">\n<!-- Generated by graphviz version 2.40.1 (20161225.0304)\n -->\n<!-- Title: program Pages: 1 -->\n<svg width=\"209pt\" height=\"188pt\"\n viewBox=\"0.00 0.00 209.04 188.00\" xmlns=\"http://www.w3.org/2000/svg\" xmlns:xlink=\"http://www.w3.org/1999/xlink\">\n<g id=\"graph0\" class=\"graph\" transform=\"scale(1 1) rotate(0) translate(4 184)\">\n<title>program</title>\n<polygon fill=\"#ffffff\" stroke=\"transparent\" points=\"-4,4 -4,-184 205.0433,-184 205.0433,4 -4,4\"/>\n<!-- 0 -->\n<g id=\"node1\" class=\"node\">\n<title>0</title>\n<ellipse fill=\"#136ed4\" stroke=\"#000000\" cx=\"70.4971\" cy=\"-162\" rx=\"27\" ry=\"18\"/>\n<text text-anchor=\"middle\" x=\"70.4971\" y=\"-158.3\" font-family=\"Times,serif\" font-size=\"14.00\" fill=\"#000000\">div</text>\n</g>\n<!-- 1 -->\n<g id=\"node2\" class=\"node\">\n<title>1</title>\n<ellipse fill=\"#60a6f6\" stroke=\"#000000\" cx=\"32.4971\" cy=\"-90\" rx=\"32.4942\" ry=\"18\"/>\n<text text-anchor=\"middle\" x=\"32.4971\" y=\"-86.3\" font-family=\"Times,serif\" font-size=\"14.00\" fill=\"#000000\">0.777</text>\n</g>\n<!-- 0&#45;&gt;1 -->\n<g id=\"edge4\" class=\"edge\">\n<title>0&#45;&gt;1</title>\n<path fill=\"none\" stroke=\"#000000\" d=\"M61.4916,-144.937C57.0144,-136.4537 51.502,-126.0092 46.4901,-116.513\"/>\n<polygon fill=\"#000000\" stroke=\"#000000\" points=\"49.4649,-114.6509 41.7019,-107.4407 43.2742,-117.9182 49.4649,-114.6509\"/>\n</g>\n<!-- 2 -->\n<g id=\"node3\" class=\"node\">\n<title>2</title>\n<ellipse fill=\"#136ed4\" stroke=\"#000000\" cx=\"109.4971\" cy=\"-90\" rx=\"27\" ry=\"18\"/>\n<text text-anchor=\"middle\" x=\"109.4971\" y=\"-86.3\" font-family=\"Times,serif\" font-size=\"14.00\" fill=\"#000000\">div</text>\n</g>\n<!-- 0&#45;&gt;2 -->\n<g id=\"edge3\" class=\"edge\">\n<title>0&#45;&gt;2</title>\n<path fill=\"none\" stroke=\"#000000\" d=\"M79.7396,-144.937C84.4508,-136.2393 90.2788,-125.4799 95.5249,-115.7948\"/>\n<polygon fill=\"#000000\" stroke=\"#000000\" points=\"98.6356,-117.4005 100.321,-106.9405 92.4806,-114.0664 98.6356,-117.4005\"/>\n</g>\n<!-- 3 -->\n<g id=\"node4\" class=\"node\">\n<title>3</title>\n<ellipse fill=\"#60a6f6\" stroke=\"#000000\" cx=\"60.4971\" cy=\"-18\" rx=\"35.9954\" ry=\"18\"/>\n<text text-anchor=\"middle\" x=\"60.4971\" y=\"-14.3\" font-family=\"Times,serif\" font-size=\"14.00\" fill=\"#000000\">&#45;0.295</text>\n</g>\n<!-- 2&#45;&gt;3 -->\n<g id=\"edge2\" class=\"edge\">\n<title>2&#45;&gt;3</title>\n<path fill=\"none\" stroke=\"#000000\" d=\"M98.1324,-73.3008C92.0973,-64.4329 84.5524,-53.3465 77.8058,-43.4332\"/>\n<polygon fill=\"#000000\" stroke=\"#000000\" points=\"80.6603,-41.4066 72.1405,-35.1086 74.8733,-45.345 80.6603,-41.4066\"/>\n</g>\n<!-- 4 -->\n<g id=\"node5\" class=\"node\">\n<title>4</title>\n<ellipse fill=\"#60a6f6\" stroke=\"#000000\" cx=\"157.4971\" cy=\"-18\" rx=\"43.5923\" ry=\"18\"/>\n<text text-anchor=\"middle\" x=\"157.4971\" y=\"-14.3\" font-family=\"Times,serif\" font-size=\"14.00\" fill=\"#000000\">X_Value</text>\n</g>\n<!-- 2&#45;&gt;4 -->\n<g id=\"edge1\" class=\"edge\">\n<title>2&#45;&gt;4</title>\n<path fill=\"none\" stroke=\"#000000\" d=\"M120.6299,-73.3008C126.3974,-64.6496 133.5723,-53.8873 140.0556,-44.1623\"/>\n<polygon fill=\"#000000\" stroke=\"#000000\" points=\"143.1201,-45.8752 145.755,-35.6132 137.2958,-41.9922 143.1201,-45.8752\"/>\n</g>\n</g>\n</svg>\n"
          },
          "metadata": {
            "tags": []
          },
          "execution_count": 20
        }
      ]
    },
    {
      "cell_type": "code",
      "metadata": {
        "colab": {
          "base_uri": "https://localhost:8080/"
        },
        "id": "rjNLYwh0_Tlu",
        "outputId": "a508e3c8-9101-469b-bc87-765b32d35481"
      },
      "source": [
        "# Formula\n",
        "print(est._program)"
      ],
      "execution_count": 21,
      "outputs": [
        {
          "output_type": "stream",
          "text": [
            "div(0.777, div(-0.295, X_Value))\n"
          ],
          "name": "stdout"
        }
      ]
    },
    {
      "cell_type": "code",
      "metadata": {
        "id": "KjzBabu3Up6S"
      },
      "source": [
        ""
      ],
      "execution_count": 21,
      "outputs": []
    }
  ]
}