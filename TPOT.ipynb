{
  "nbformat": 4,
  "nbformat_minor": 0,
  "metadata": {
    "colab": {
      "name": "TPOT",
      "provenance": [],
      "collapsed_sections": [],
      "toc_visible": true,
      "authorship_tag": "ABX9TyPMOk23SbzH8yFWqV1VLNau",
      "include_colab_link": true
    },
    "kernelspec": {
      "name": "python3",
      "display_name": "Python 3"
    },
    "language_info": {
      "name": "python"
    },
    "widgets": {
      "application/vnd.jupyter.widget-state+json": {
        "f21ffa1d5db64ec08c5eaa118e48cc5b": {
          "model_module": "@jupyter-widgets/controls",
          "model_name": "HBoxModel",
          "state": {
            "_view_name": "HBoxView",
            "_dom_classes": [],
            "_model_name": "HBoxModel",
            "_view_module": "@jupyter-widgets/controls",
            "_model_module_version": "1.5.0",
            "_view_count": null,
            "_view_module_version": "1.5.0",
            "box_style": "",
            "layout": "IPY_MODEL_84c85857dfdd4f1f8d4f2b013260ab12",
            "_model_module": "@jupyter-widgets/controls",
            "children": [
              "IPY_MODEL_38bd1df59b924ccc95d96e471f6ab425",
              "IPY_MODEL_9d1cea5b6b634a678696698b02d06fd1"
            ]
          }
        },
        "84c85857dfdd4f1f8d4f2b013260ab12": {
          "model_module": "@jupyter-widgets/base",
          "model_name": "LayoutModel",
          "state": {
            "_view_name": "LayoutView",
            "grid_template_rows": null,
            "right": null,
            "justify_content": null,
            "_view_module": "@jupyter-widgets/base",
            "overflow": null,
            "_model_module_version": "1.2.0",
            "_view_count": null,
            "flex_flow": null,
            "width": null,
            "min_width": null,
            "border": null,
            "align_items": null,
            "bottom": null,
            "_model_module": "@jupyter-widgets/base",
            "top": null,
            "grid_column": null,
            "overflow_y": null,
            "overflow_x": null,
            "grid_auto_flow": null,
            "grid_area": null,
            "grid_template_columns": null,
            "flex": null,
            "_model_name": "LayoutModel",
            "justify_items": null,
            "grid_row": null,
            "max_height": null,
            "align_content": null,
            "visibility": null,
            "align_self": null,
            "height": null,
            "min_height": null,
            "padding": null,
            "grid_auto_rows": null,
            "grid_gap": null,
            "max_width": null,
            "order": null,
            "_view_module_version": "1.2.0",
            "grid_template_areas": null,
            "object_position": null,
            "object_fit": null,
            "grid_auto_columns": null,
            "margin": null,
            "display": null,
            "left": null
          }
        },
        "38bd1df59b924ccc95d96e471f6ab425": {
          "model_module": "@jupyter-widgets/controls",
          "model_name": "FloatProgressModel",
          "state": {
            "_view_name": "ProgressView",
            "style": "IPY_MODEL_ce8ed7488f0a445e8aac51f26f8a6089",
            "_dom_classes": [],
            "description": "Optimization Progress: 100%",
            "_model_name": "FloatProgressModel",
            "bar_style": "",
            "max": 300,
            "_view_module": "@jupyter-widgets/controls",
            "_model_module_version": "1.5.0",
            "value": 300,
            "_view_count": null,
            "_view_module_version": "1.5.0",
            "orientation": "horizontal",
            "min": 0,
            "description_tooltip": null,
            "_model_module": "@jupyter-widgets/controls",
            "layout": "IPY_MODEL_363aa7e3fd7746b8a7b3a17029f0d558"
          }
        },
        "9d1cea5b6b634a678696698b02d06fd1": {
          "model_module": "@jupyter-widgets/controls",
          "model_name": "HTMLModel",
          "state": {
            "_view_name": "HTMLView",
            "style": "IPY_MODEL_355f3c28e03d4947b6fd0a5ab69054f2",
            "_dom_classes": [],
            "description": "",
            "_model_name": "HTMLModel",
            "placeholder": "​",
            "_view_module": "@jupyter-widgets/controls",
            "_model_module_version": "1.5.0",
            "value": " 300/300 [05:16&lt;00:00,  1.25s/pipeline]",
            "_view_count": null,
            "_view_module_version": "1.5.0",
            "description_tooltip": null,
            "_model_module": "@jupyter-widgets/controls",
            "layout": "IPY_MODEL_75f8429ff7124450a6fb8966b9a06d88"
          }
        },
        "ce8ed7488f0a445e8aac51f26f8a6089": {
          "model_module": "@jupyter-widgets/controls",
          "model_name": "ProgressStyleModel",
          "state": {
            "_view_name": "StyleView",
            "_model_name": "ProgressStyleModel",
            "description_width": "initial",
            "_view_module": "@jupyter-widgets/base",
            "_model_module_version": "1.5.0",
            "_view_count": null,
            "_view_module_version": "1.2.0",
            "bar_color": null,
            "_model_module": "@jupyter-widgets/controls"
          }
        },
        "363aa7e3fd7746b8a7b3a17029f0d558": {
          "model_module": "@jupyter-widgets/base",
          "model_name": "LayoutModel",
          "state": {
            "_view_name": "LayoutView",
            "grid_template_rows": null,
            "right": null,
            "justify_content": null,
            "_view_module": "@jupyter-widgets/base",
            "overflow": null,
            "_model_module_version": "1.2.0",
            "_view_count": null,
            "flex_flow": null,
            "width": null,
            "min_width": null,
            "border": null,
            "align_items": null,
            "bottom": null,
            "_model_module": "@jupyter-widgets/base",
            "top": null,
            "grid_column": null,
            "overflow_y": null,
            "overflow_x": null,
            "grid_auto_flow": null,
            "grid_area": null,
            "grid_template_columns": null,
            "flex": null,
            "_model_name": "LayoutModel",
            "justify_items": null,
            "grid_row": null,
            "max_height": null,
            "align_content": null,
            "visibility": null,
            "align_self": null,
            "height": null,
            "min_height": null,
            "padding": null,
            "grid_auto_rows": null,
            "grid_gap": null,
            "max_width": null,
            "order": null,
            "_view_module_version": "1.2.0",
            "grid_template_areas": null,
            "object_position": null,
            "object_fit": null,
            "grid_auto_columns": null,
            "margin": null,
            "display": null,
            "left": null
          }
        },
        "355f3c28e03d4947b6fd0a5ab69054f2": {
          "model_module": "@jupyter-widgets/controls",
          "model_name": "DescriptionStyleModel",
          "state": {
            "_view_name": "StyleView",
            "_model_name": "DescriptionStyleModel",
            "description_width": "",
            "_view_module": "@jupyter-widgets/base",
            "_model_module_version": "1.5.0",
            "_view_count": null,
            "_view_module_version": "1.2.0",
            "_model_module": "@jupyter-widgets/controls"
          }
        },
        "75f8429ff7124450a6fb8966b9a06d88": {
          "model_module": "@jupyter-widgets/base",
          "model_name": "LayoutModel",
          "state": {
            "_view_name": "LayoutView",
            "grid_template_rows": null,
            "right": null,
            "justify_content": null,
            "_view_module": "@jupyter-widgets/base",
            "overflow": null,
            "_model_module_version": "1.2.0",
            "_view_count": null,
            "flex_flow": null,
            "width": null,
            "min_width": null,
            "border": null,
            "align_items": null,
            "bottom": null,
            "_model_module": "@jupyter-widgets/base",
            "top": null,
            "grid_column": null,
            "overflow_y": null,
            "overflow_x": null,
            "grid_auto_flow": null,
            "grid_area": null,
            "grid_template_columns": null,
            "flex": null,
            "_model_name": "LayoutModel",
            "justify_items": null,
            "grid_row": null,
            "max_height": null,
            "align_content": null,
            "visibility": null,
            "align_self": null,
            "height": null,
            "min_height": null,
            "padding": null,
            "grid_auto_rows": null,
            "grid_gap": null,
            "max_width": null,
            "order": null,
            "_view_module_version": "1.2.0",
            "grid_template_areas": null,
            "object_position": null,
            "object_fit": null,
            "grid_auto_columns": null,
            "margin": null,
            "display": null,
            "left": null
          }
        },
        "a72d182a19504bd1b7cafad8c04dd5ba": {
          "model_module": "@jupyter-widgets/controls",
          "model_name": "HBoxModel",
          "state": {
            "_view_name": "HBoxView",
            "_dom_classes": [],
            "_model_name": "HBoxModel",
            "_view_module": "@jupyter-widgets/controls",
            "_model_module_version": "1.5.0",
            "_view_count": null,
            "_view_module_version": "1.5.0",
            "box_style": "",
            "layout": "IPY_MODEL_84b3066dbbe8484f9faf45fe38b10234",
            "_model_module": "@jupyter-widgets/controls",
            "children": [
              "IPY_MODEL_aa17ec7960b642d4b7b39612f6b24bba",
              "IPY_MODEL_7ed4a6c4650447b8a2cb0af980cfe787"
            ]
          }
        },
        "84b3066dbbe8484f9faf45fe38b10234": {
          "model_module": "@jupyter-widgets/base",
          "model_name": "LayoutModel",
          "state": {
            "_view_name": "LayoutView",
            "grid_template_rows": null,
            "right": null,
            "justify_content": null,
            "_view_module": "@jupyter-widgets/base",
            "overflow": null,
            "_model_module_version": "1.2.0",
            "_view_count": null,
            "flex_flow": null,
            "width": null,
            "min_width": null,
            "border": null,
            "align_items": null,
            "bottom": null,
            "_model_module": "@jupyter-widgets/base",
            "top": null,
            "grid_column": null,
            "overflow_y": null,
            "overflow_x": null,
            "grid_auto_flow": null,
            "grid_area": null,
            "grid_template_columns": null,
            "flex": null,
            "_model_name": "LayoutModel",
            "justify_items": null,
            "grid_row": null,
            "max_height": null,
            "align_content": null,
            "visibility": null,
            "align_self": null,
            "height": null,
            "min_height": null,
            "padding": null,
            "grid_auto_rows": null,
            "grid_gap": null,
            "max_width": null,
            "order": null,
            "_view_module_version": "1.2.0",
            "grid_template_areas": null,
            "object_position": null,
            "object_fit": null,
            "grid_auto_columns": null,
            "margin": null,
            "display": null,
            "left": null
          }
        },
        "aa17ec7960b642d4b7b39612f6b24bba": {
          "model_module": "@jupyter-widgets/controls",
          "model_name": "FloatProgressModel",
          "state": {
            "_view_name": "ProgressView",
            "style": "IPY_MODEL_8877b28988b64b2aa46bc100cc165aa3",
            "_dom_classes": [],
            "description": "Optimization Progress: 100%",
            "_model_name": "FloatProgressModel",
            "bar_style": "",
            "max": 300,
            "_view_module": "@jupyter-widgets/controls",
            "_model_module_version": "1.5.0",
            "value": 300,
            "_view_count": null,
            "_view_module_version": "1.5.0",
            "orientation": "horizontal",
            "min": 0,
            "description_tooltip": null,
            "_model_module": "@jupyter-widgets/controls",
            "layout": "IPY_MODEL_ebd729b70a6343ba95aba27f0b000522"
          }
        },
        "7ed4a6c4650447b8a2cb0af980cfe787": {
          "model_module": "@jupyter-widgets/controls",
          "model_name": "HTMLModel",
          "state": {
            "_view_name": "HTMLView",
            "style": "IPY_MODEL_667cc13b605548a7a79503bca0d31e04",
            "_dom_classes": [],
            "description": "",
            "_model_name": "HTMLModel",
            "placeholder": "​",
            "_view_module": "@jupyter-widgets/controls",
            "_model_module_version": "1.5.0",
            "value": " 300/300 [06:10&lt;00:00,  1.26s/pipeline]",
            "_view_count": null,
            "_view_module_version": "1.5.0",
            "description_tooltip": null,
            "_model_module": "@jupyter-widgets/controls",
            "layout": "IPY_MODEL_6ed7a31872834b5788fed3ec6c9ccbcc"
          }
        },
        "8877b28988b64b2aa46bc100cc165aa3": {
          "model_module": "@jupyter-widgets/controls",
          "model_name": "ProgressStyleModel",
          "state": {
            "_view_name": "StyleView",
            "_model_name": "ProgressStyleModel",
            "description_width": "initial",
            "_view_module": "@jupyter-widgets/base",
            "_model_module_version": "1.5.0",
            "_view_count": null,
            "_view_module_version": "1.2.0",
            "bar_color": null,
            "_model_module": "@jupyter-widgets/controls"
          }
        },
        "ebd729b70a6343ba95aba27f0b000522": {
          "model_module": "@jupyter-widgets/base",
          "model_name": "LayoutModel",
          "state": {
            "_view_name": "LayoutView",
            "grid_template_rows": null,
            "right": null,
            "justify_content": null,
            "_view_module": "@jupyter-widgets/base",
            "overflow": null,
            "_model_module_version": "1.2.0",
            "_view_count": null,
            "flex_flow": null,
            "width": null,
            "min_width": null,
            "border": null,
            "align_items": null,
            "bottom": null,
            "_model_module": "@jupyter-widgets/base",
            "top": null,
            "grid_column": null,
            "overflow_y": null,
            "overflow_x": null,
            "grid_auto_flow": null,
            "grid_area": null,
            "grid_template_columns": null,
            "flex": null,
            "_model_name": "LayoutModel",
            "justify_items": null,
            "grid_row": null,
            "max_height": null,
            "align_content": null,
            "visibility": null,
            "align_self": null,
            "height": null,
            "min_height": null,
            "padding": null,
            "grid_auto_rows": null,
            "grid_gap": null,
            "max_width": null,
            "order": null,
            "_view_module_version": "1.2.0",
            "grid_template_areas": null,
            "object_position": null,
            "object_fit": null,
            "grid_auto_columns": null,
            "margin": null,
            "display": null,
            "left": null
          }
        },
        "667cc13b605548a7a79503bca0d31e04": {
          "model_module": "@jupyter-widgets/controls",
          "model_name": "DescriptionStyleModel",
          "state": {
            "_view_name": "StyleView",
            "_model_name": "DescriptionStyleModel",
            "description_width": "",
            "_view_module": "@jupyter-widgets/base",
            "_model_module_version": "1.5.0",
            "_view_count": null,
            "_view_module_version": "1.2.0",
            "_model_module": "@jupyter-widgets/controls"
          }
        },
        "6ed7a31872834b5788fed3ec6c9ccbcc": {
          "model_module": "@jupyter-widgets/base",
          "model_name": "LayoutModel",
          "state": {
            "_view_name": "LayoutView",
            "grid_template_rows": null,
            "right": null,
            "justify_content": null,
            "_view_module": "@jupyter-widgets/base",
            "overflow": null,
            "_model_module_version": "1.2.0",
            "_view_count": null,
            "flex_flow": null,
            "width": null,
            "min_width": null,
            "border": null,
            "align_items": null,
            "bottom": null,
            "_model_module": "@jupyter-widgets/base",
            "top": null,
            "grid_column": null,
            "overflow_y": null,
            "overflow_x": null,
            "grid_auto_flow": null,
            "grid_area": null,
            "grid_template_columns": null,
            "flex": null,
            "_model_name": "LayoutModel",
            "justify_items": null,
            "grid_row": null,
            "max_height": null,
            "align_content": null,
            "visibility": null,
            "align_self": null,
            "height": null,
            "min_height": null,
            "padding": null,
            "grid_auto_rows": null,
            "grid_gap": null,
            "max_width": null,
            "order": null,
            "_view_module_version": "1.2.0",
            "grid_template_areas": null,
            "object_position": null,
            "object_fit": null,
            "grid_auto_columns": null,
            "margin": null,
            "display": null,
            "left": null
          }
        }
      }
    }
  },
  "cells": [
    {
      "cell_type": "markdown",
      "metadata": {
        "id": "view-in-github",
        "colab_type": "text"
      },
      "source": [
        "<a href=\"https://colab.research.google.com/github/swilsonmfc/automl/blob/main/TPOT.ipynb\" target=\"_parent\"><img src=\"https://colab.research.google.com/assets/colab-badge.svg\" alt=\"Open In Colab\"/></a>"
      ]
    },
    {
      "cell_type": "markdown",
      "metadata": {
        "id": "rYOkgtcul8N9"
      },
      "source": [
        "# TPOT\n",
        "\n",
        "![](https://raw.githubusercontent.com/EpistasisLab/tpot/master/images/tpot-logo.jpg)"
      ]
    },
    {
      "cell_type": "markdown",
      "metadata": {
        "id": "tRqPLCZa3leL"
      },
      "source": [
        "# Install"
      ]
    },
    {
      "cell_type": "code",
      "metadata": {
        "colab": {
          "base_uri": "https://localhost:8080/"
        },
        "id": "qM8MJ9ro2kGn",
        "outputId": "be97a47a-1cd0-47d8-bafd-0a3b1e40611e"
      },
      "source": [
        "!pip install tpot"
      ],
      "execution_count": 15,
      "outputs": [
        {
          "output_type": "stream",
          "text": [
            "Requirement already satisfied: tpot in /usr/local/lib/python3.7/dist-packages (0.11.7)\n",
            "Requirement already satisfied: stopit>=1.1.1 in /usr/local/lib/python3.7/dist-packages (from tpot) (1.1.2)\n",
            "Requirement already satisfied: scikit-learn>=0.22.0 in /usr/local/lib/python3.7/dist-packages (from tpot) (0.22.2.post1)\n",
            "Requirement already satisfied: deap>=1.2 in /usr/local/lib/python3.7/dist-packages (from tpot) (1.3.1)\n",
            "Requirement already satisfied: tqdm>=4.36.1 in /usr/local/lib/python3.7/dist-packages (from tpot) (4.41.1)\n",
            "Requirement already satisfied: scipy>=1.3.1 in /usr/local/lib/python3.7/dist-packages (from tpot) (1.4.1)\n",
            "Requirement already satisfied: pandas>=0.24.2 in /usr/local/lib/python3.7/dist-packages (from tpot) (1.1.5)\n",
            "Requirement already satisfied: joblib>=0.13.2 in /usr/local/lib/python3.7/dist-packages (from tpot) (1.0.1)\n",
            "Requirement already satisfied: xgboost>=1.1.0 in /usr/local/lib/python3.7/dist-packages (from tpot) (1.4.1)\n",
            "Requirement already satisfied: update-checker>=0.16 in /usr/local/lib/python3.7/dist-packages (from tpot) (0.18.0)\n",
            "Requirement already satisfied: numpy>=1.16.3 in /usr/local/lib/python3.7/dist-packages (from tpot) (1.19.5)\n",
            "Requirement already satisfied: python-dateutil>=2.7.3 in /usr/local/lib/python3.7/dist-packages (from pandas>=0.24.2->tpot) (2.8.1)\n",
            "Requirement already satisfied: pytz>=2017.2 in /usr/local/lib/python3.7/dist-packages (from pandas>=0.24.2->tpot) (2018.9)\n",
            "Requirement already satisfied: requests>=2.3.0 in /usr/local/lib/python3.7/dist-packages (from update-checker>=0.16->tpot) (2.23.0)\n",
            "Requirement already satisfied: six>=1.5 in /usr/local/lib/python3.7/dist-packages (from python-dateutil>=2.7.3->pandas>=0.24.2->tpot) (1.15.0)\n",
            "Requirement already satisfied: certifi>=2017.4.17 in /usr/local/lib/python3.7/dist-packages (from requests>=2.3.0->update-checker>=0.16->tpot) (2020.12.5)\n",
            "Requirement already satisfied: idna<3,>=2.5 in /usr/local/lib/python3.7/dist-packages (from requests>=2.3.0->update-checker>=0.16->tpot) (2.10)\n",
            "Requirement already satisfied: chardet<4,>=3.0.2 in /usr/local/lib/python3.7/dist-packages (from requests>=2.3.0->update-checker>=0.16->tpot) (3.0.4)\n",
            "Requirement already satisfied: urllib3!=1.25.0,!=1.25.1,<1.26,>=1.21.1 in /usr/local/lib/python3.7/dist-packages (from requests>=2.3.0->update-checker>=0.16->tpot) (1.24.3)\n"
          ],
          "name": "stdout"
        }
      ]
    },
    {
      "cell_type": "markdown",
      "metadata": {
        "id": "h2vGVrCt2i3D"
      },
      "source": [
        "# Setup"
      ]
    },
    {
      "cell_type": "code",
      "metadata": {
        "colab": {
          "base_uri": "https://localhost:8080/",
          "height": 355
        },
        "id": "DWnt4lcU2pMB",
        "outputId": "ca38a5af-4d12-4baf-a9d9-2f3991d3137e"
      },
      "source": [
        "import pandas as pd\n",
        "import numpy as np\n",
        "import matplotlib.pyplot as plt\n",
        "\n",
        "from sklearn.datasets import load_iris\n",
        "from sklearn.datasets import load_boston\n",
        "from sklearn.metrics import mean_absolute_error\n",
        "from sklearn.metrics import mean_squared_error\n",
        "from sklearn.metrics import accuracy_score\n",
        "from sklearn.model_selection import train_test_split\n",
        "\n",
        "from sklearn.linear_model import LogisticRegression\n",
        "from sklearn.ensemble import RandomForestClassifier\n",
        "from sklearn.ensemble import RandomForestRegressor\n",
        "\n",
        "from tpot import TPOTClassifier\n",
        "from tpot import TPOTRegressor"
      ],
      "execution_count": 1,
      "outputs": [
        {
          "output_type": "error",
          "ename": "ModuleNotFoundError",
          "evalue": "ignored",
          "traceback": [
            "\u001b[0;31m---------------------------------------------------------------------------\u001b[0m",
            "\u001b[0;31mModuleNotFoundError\u001b[0m                       Traceback (most recent call last)",
            "\u001b[0;32m<ipython-input-1-e6d15448abf5>\u001b[0m in \u001b[0;36m<module>\u001b[0;34m()\u001b[0m\n\u001b[1;32m     14\u001b[0m \u001b[0;32mfrom\u001b[0m \u001b[0msklearn\u001b[0m\u001b[0;34m.\u001b[0m\u001b[0mensemble\u001b[0m \u001b[0;32mimport\u001b[0m \u001b[0mRandomForestRegressor\u001b[0m\u001b[0;34m\u001b[0m\u001b[0;34m\u001b[0m\u001b[0m\n\u001b[1;32m     15\u001b[0m \u001b[0;34m\u001b[0m\u001b[0m\n\u001b[0;32m---> 16\u001b[0;31m \u001b[0;32mfrom\u001b[0m \u001b[0mtpot\u001b[0m \u001b[0;32mimport\u001b[0m \u001b[0mTPOTClassifier\u001b[0m\u001b[0;34m\u001b[0m\u001b[0;34m\u001b[0m\u001b[0m\n\u001b[0m\u001b[1;32m     17\u001b[0m \u001b[0;32mfrom\u001b[0m \u001b[0mtpot\u001b[0m \u001b[0;32mimport\u001b[0m \u001b[0mTPOTRegressor\u001b[0m\u001b[0;34m\u001b[0m\u001b[0;34m\u001b[0m\u001b[0m\n",
            "\u001b[0;31mModuleNotFoundError\u001b[0m: No module named 'tpot'",
            "",
            "\u001b[0;31m---------------------------------------------------------------------------\u001b[0;32m\nNOTE: If your import is failing due to a missing package, you can\nmanually install dependencies using either !pip or !apt.\n\nTo view examples of installing some common dependencies, click the\n\"Open Examples\" button below.\n\u001b[0;31m---------------------------------------------------------------------------\u001b[0m\n"
          ]
        }
      ]
    },
    {
      "cell_type": "markdown",
      "metadata": {
        "id": "AuMwUWjv2qei"
      },
      "source": [
        "# TPOT\n",
        "\n",
        "![](https://raw.githubusercontent.com/EpistasisLab/tpot/master/images/tpot-ml-pipeline.png)"
      ]
    },
    {
      "cell_type": "markdown",
      "metadata": {
        "id": "NQkG7e7x38sm"
      },
      "source": [
        "## Example Pipeline"
      ]
    },
    {
      "cell_type": "markdown",
      "metadata": {
        "id": "4poPiZcC36T2"
      },
      "source": [
        "![](https://raw.githubusercontent.com/EpistasisLab/tpot/master/images/tpot-pipeline-example.png)"
      ]
    },
    {
      "cell_type": "markdown",
      "metadata": {
        "id": "k8lI88Rq37z-"
      },
      "source": [
        "# Classification"
      ]
    },
    {
      "cell_type": "markdown",
      "metadata": {
        "id": "lMBMMd4N5Zwd"
      },
      "source": [
        "## Fit"
      ]
    },
    {
      "cell_type": "code",
      "metadata": {
        "colab": {
          "base_uri": "https://localhost:8080/",
          "height": 242,
          "referenced_widgets": [
            "f21ffa1d5db64ec08c5eaa118e48cc5b",
            "84c85857dfdd4f1f8d4f2b013260ab12",
            "38bd1df59b924ccc95d96e471f6ab425",
            "9d1cea5b6b634a678696698b02d06fd1",
            "ce8ed7488f0a445e8aac51f26f8a6089",
            "363aa7e3fd7746b8a7b3a17029f0d558",
            "355f3c28e03d4947b6fd0a5ab69054f2",
            "75f8429ff7124450a6fb8966b9a06d88"
          ]
        },
        "id": "--FB77xA4XUp",
        "outputId": "de8c581c-5e53-4286-d090-a67703bc9b53"
      },
      "source": [
        "iris = load_iris()\n",
        "X_train, X_test, y_train, y_test = train_test_split(\n",
        "    iris.data.astype(np.float64),\n",
        "    iris.target.astype(np.float64), \n",
        "    test_size=0.25)\n",
        "\n",
        "tpot = TPOTClassifier(generations=5, population_size=50, verbosity=2)\n",
        "\n",
        "tpot.fit(X_train, y_train)\n",
        "print(tpot.score(X_test, y_test))\n",
        "tpot.export('tpot_iris_pipeline.py')"
      ],
      "execution_count": 17,
      "outputs": [
        {
          "output_type": "display_data",
          "data": {
            "application/vnd.jupyter.widget-view+json": {
              "model_id": "f21ffa1d5db64ec08c5eaa118e48cc5b",
              "version_minor": 0,
              "version_major": 2
            },
            "text/plain": [
              "HBox(children=(FloatProgress(value=0.0, description='Optimization Progress', max=300.0, style=ProgressStyle(de…"
            ]
          },
          "metadata": {
            "tags": []
          }
        },
        {
          "output_type": "stream",
          "text": [
            "\r\n",
            "Generation 1 - Current best internal CV score: 0.9826086956521738\n",
            "\n",
            "Generation 2 - Current best internal CV score: 0.9826086956521738\n",
            "\n",
            "Generation 3 - Current best internal CV score: 0.9826086956521738\n",
            "\n",
            "Generation 4 - Current best internal CV score: 0.9826086956521738\n",
            "\n",
            "Generation 5 - Current best internal CV score: 0.9826086956521738\n",
            "\n",
            "Best pipeline: MLPClassifier(input_matrix, alpha=0.001, learning_rate_init=0.1)\n",
            "0.9736842105263158\n"
          ],
          "name": "stdout"
        }
      ]
    },
    {
      "cell_type": "markdown",
      "metadata": {
        "id": "sJOgFQWG5Vy5"
      },
      "source": [
        "## Inspect"
      ]
    },
    {
      "cell_type": "code",
      "metadata": {
        "colab": {
          "base_uri": "https://localhost:8080/"
        },
        "id": "bT7GKGX_4fxj",
        "outputId": "6e9cf549-15d1-4e56-8693-770e8d2df15b"
      },
      "source": [
        "!cat tpot_iris_pipeline.py"
      ],
      "execution_count": 18,
      "outputs": [
        {
          "output_type": "stream",
          "text": [
            "import numpy as np\n",
            "import pandas as pd\n",
            "from sklearn.model_selection import train_test_split\n",
            "from sklearn.neural_network import MLPClassifier\n",
            "\n",
            "# NOTE: Make sure that the outcome column is labeled 'target' in the data file\n",
            "tpot_data = pd.read_csv('PATH/TO/DATA/FILE', sep='COLUMN_SEPARATOR', dtype=np.float64)\n",
            "features = tpot_data.drop('target', axis=1)\n",
            "training_features, testing_features, training_target, testing_target = \\\n",
            "            train_test_split(features, tpot_data['target'], random_state=None)\n",
            "\n",
            "# Average CV score on the training set was: 0.9826086956521738\n",
            "exported_pipeline = MLPClassifier(alpha=0.001, learning_rate_init=0.1)\n",
            "\n",
            "exported_pipeline.fit(training_features, training_target)\n",
            "results = exported_pipeline.predict(testing_features)\n"
          ],
          "name": "stdout"
        }
      ]
    },
    {
      "cell_type": "markdown",
      "metadata": {
        "id": "leQP59KQ5ciC"
      },
      "source": [
        "## Compare"
      ]
    },
    {
      "cell_type": "code",
      "metadata": {
        "id": "oMQkyd4KoVi3"
      },
      "source": [
        "results_df = pd.DataFrame(columns=['Accuracy'])"
      ],
      "execution_count": 19,
      "outputs": []
    },
    {
      "cell_type": "code",
      "metadata": {
        "id": "cZTvniP55NGy"
      },
      "source": [
        "lr = LogisticRegression(solver='lbfgs', multi_class='auto')\n",
        "lr.fit(X_train, y_train)\n",
        "pred = lr.predict(X_test)\n",
        "score = accuracy_score(pred, y_test)\n",
        "results_df.loc['Logistic Regression'] = [score]"
      ],
      "execution_count": 20,
      "outputs": []
    },
    {
      "cell_type": "code",
      "metadata": {
        "id": "cMqDDFujolz2"
      },
      "source": [
        "pred = tpot.predict(X_test)\n",
        "score = accuracy_score(pred, y_test)\n",
        "results_df.loc['TPOT'] = [score]"
      ],
      "execution_count": 21,
      "outputs": []
    },
    {
      "cell_type": "code",
      "metadata": {
        "colab": {
          "base_uri": "https://localhost:8080/",
          "height": 108
        },
        "id": "S2Pm_Y6Ho1Ut",
        "outputId": "c19762d5-1fde-4268-97c5-d932a71ce52d"
      },
      "source": [
        "results_df"
      ],
      "execution_count": 22,
      "outputs": [
        {
          "output_type": "execute_result",
          "data": {
            "text/html": [
              "<div>\n",
              "<style scoped>\n",
              "    .dataframe tbody tr th:only-of-type {\n",
              "        vertical-align: middle;\n",
              "    }\n",
              "\n",
              "    .dataframe tbody tr th {\n",
              "        vertical-align: top;\n",
              "    }\n",
              "\n",
              "    .dataframe thead th {\n",
              "        text-align: right;\n",
              "    }\n",
              "</style>\n",
              "<table border=\"1\" class=\"dataframe\">\n",
              "  <thead>\n",
              "    <tr style=\"text-align: right;\">\n",
              "      <th></th>\n",
              "      <th>Accuracy</th>\n",
              "    </tr>\n",
              "  </thead>\n",
              "  <tbody>\n",
              "    <tr>\n",
              "      <th>Logistic Regression</th>\n",
              "      <td>0.973684</td>\n",
              "    </tr>\n",
              "    <tr>\n",
              "      <th>TPOT</th>\n",
              "      <td>0.973684</td>\n",
              "    </tr>\n",
              "  </tbody>\n",
              "</table>\n",
              "</div>"
            ],
            "text/plain": [
              "                     Accuracy\n",
              "Logistic Regression  0.973684\n",
              "TPOT                 0.973684"
            ]
          },
          "metadata": {
            "tags": []
          },
          "execution_count": 22
        }
      ]
    },
    {
      "cell_type": "markdown",
      "metadata": {
        "id": "nAAZEZPS5efP"
      },
      "source": [
        "# Regression"
      ]
    },
    {
      "cell_type": "markdown",
      "metadata": {
        "id": "U0H7Rm0B50gV"
      },
      "source": [
        "## Fit"
      ]
    },
    {
      "cell_type": "code",
      "metadata": {
        "colab": {
          "base_uri": "https://localhost:8080/",
          "height": 262,
          "referenced_widgets": [
            "a72d182a19504bd1b7cafad8c04dd5ba",
            "84b3066dbbe8484f9faf45fe38b10234",
            "aa17ec7960b642d4b7b39612f6b24bba",
            "7ed4a6c4650447b8a2cb0af980cfe787",
            "8877b28988b64b2aa46bc100cc165aa3",
            "ebd729b70a6343ba95aba27f0b000522",
            "667cc13b605548a7a79503bca0d31e04",
            "6ed7a31872834b5788fed3ec6c9ccbcc"
          ]
        },
        "id": "W4asBEJ35z5V",
        "outputId": "5934050c-f332-4bd4-b322-a4f96f642708"
      },
      "source": [
        "boston = load_boston()\n",
        "X_train, X_test, y_train, y_test = train_test_split(\n",
        "    boston.data.astype(np.float64),\n",
        "    boston.target.astype(np.float64), \n",
        "    test_size=0.25)\n",
        "\n",
        "tpot = TPOTRegressor(generations=5, population_size=50, verbosity=2)\n",
        "tpot.fit(X_train, y_train)\n",
        "print(-tpot.score(X_test, y_test))\n",
        "tpot.export('tpot_boston_pipeline.py')"
      ],
      "execution_count": 23,
      "outputs": [
        {
          "output_type": "display_data",
          "data": {
            "application/vnd.jupyter.widget-view+json": {
              "model_id": "a72d182a19504bd1b7cafad8c04dd5ba",
              "version_minor": 0,
              "version_major": 2
            },
            "text/plain": [
              "HBox(children=(FloatProgress(value=0.0, description='Optimization Progress', max=300.0, style=ProgressStyle(de…"
            ]
          },
          "metadata": {
            "tags": []
          }
        },
        {
          "output_type": "stream",
          "text": [
            "\r\n",
            "Generation 1 - Current best internal CV score: -14.324537700543285\n",
            "\n",
            "Generation 2 - Current best internal CV score: -13.75463485568186\n",
            "\n",
            "Generation 3 - Current best internal CV score: -13.604432474775468\n",
            "\n",
            "Generation 4 - Current best internal CV score: -13.604432474775468\n",
            "\n",
            "Generation 5 - Current best internal CV score: -13.115636754240995\n",
            "\n",
            "Best pipeline: ExtraTreesRegressor(ExtraTreesRegressor(ExtraTreesRegressor(input_matrix, bootstrap=False, max_features=0.55, min_samples_leaf=2, min_samples_split=14, n_estimators=100), bootstrap=False, max_features=0.55, min_samples_leaf=2, min_samples_split=14, n_estimators=100), bootstrap=False, max_features=0.55, min_samples_leaf=2, min_samples_split=18, n_estimators=100)\n",
            "6.230472175142373\n"
          ],
          "name": "stdout"
        }
      ]
    },
    {
      "cell_type": "markdown",
      "metadata": {
        "id": "3rmoh-hs5_Z1"
      },
      "source": [
        "## Inspect"
      ]
    },
    {
      "cell_type": "code",
      "metadata": {
        "colab": {
          "base_uri": "https://localhost:8080/"
        },
        "id": "j21BZ28y55xA",
        "outputId": "966ec544-703a-4cd8-8201-46ee5f693991"
      },
      "source": [
        "!cat tpot_boston_pipeline.py"
      ],
      "execution_count": 24,
      "outputs": [
        {
          "output_type": "stream",
          "text": [
            "import numpy as np\n",
            "import pandas as pd\n",
            "from sklearn.ensemble import ExtraTreesRegressor\n",
            "from sklearn.model_selection import train_test_split\n",
            "from sklearn.pipeline import make_pipeline, make_union\n",
            "from tpot.builtins import StackingEstimator\n",
            "\n",
            "# NOTE: Make sure that the outcome column is labeled 'target' in the data file\n",
            "tpot_data = pd.read_csv('PATH/TO/DATA/FILE', sep='COLUMN_SEPARATOR', dtype=np.float64)\n",
            "features = tpot_data.drop('target', axis=1)\n",
            "training_features, testing_features, training_target, testing_target = \\\n",
            "            train_test_split(features, tpot_data['target'], random_state=None)\n",
            "\n",
            "# Average CV score on the training set was: -13.115636754240995\n",
            "exported_pipeline = make_pipeline(\n",
            "    StackingEstimator(estimator=ExtraTreesRegressor(bootstrap=False, max_features=0.55, min_samples_leaf=2, min_samples_split=14, n_estimators=100)),\n",
            "    StackingEstimator(estimator=ExtraTreesRegressor(bootstrap=False, max_features=0.55, min_samples_leaf=2, min_samples_split=14, n_estimators=100)),\n",
            "    ExtraTreesRegressor(bootstrap=False, max_features=0.55, min_samples_leaf=2, min_samples_split=18, n_estimators=100)\n",
            ")\n",
            "\n",
            "exported_pipeline.fit(training_features, training_target)\n",
            "results = exported_pipeline.predict(testing_features)\n"
          ],
          "name": "stdout"
        }
      ]
    },
    {
      "cell_type": "markdown",
      "metadata": {
        "id": "D7slUN6H6BUt"
      },
      "source": [
        "## Compare"
      ]
    },
    {
      "cell_type": "code",
      "metadata": {
        "id": "MhbIYVAIo4Dh"
      },
      "source": [
        "results_df = pd.DataFrame(columns=['MAE', 'MSE'])"
      ],
      "execution_count": 25,
      "outputs": []
    },
    {
      "cell_type": "code",
      "metadata": {
        "id": "gNxXbROT6CTm"
      },
      "source": [
        "rf = RandomForestRegressor(n_estimators=100, random_state=12)\n",
        "rf.fit(X_train, y_train)\n",
        "pred = rf.predict(X_test)\n",
        "mae = mean_absolute_error(pred, y_test)\n",
        "mse = mean_squared_error(pred, y_test)\n",
        "results_df.loc['RandomForest'] = [mae, mse]"
      ],
      "execution_count": 26,
      "outputs": []
    },
    {
      "cell_type": "code",
      "metadata": {
        "id": "0YYRZ5QBn96s"
      },
      "source": [
        "pred = tpot.predict(X_test)\n",
        "mae = mean_absolute_error(pred, y_test)\n",
        "mse = mean_squared_error(pred, y_test)\n",
        "results_df.loc['TPOT'] = [mae, mse]"
      ],
      "execution_count": 27,
      "outputs": []
    },
    {
      "cell_type": "code",
      "metadata": {
        "colab": {
          "base_uri": "https://localhost:8080/",
          "height": 108
        },
        "id": "GbFE0aMCoIRL",
        "outputId": "be86aef4-7297-4c07-ec05-2e3230bab3fa"
      },
      "source": [
        "results_df"
      ],
      "execution_count": 28,
      "outputs": [
        {
          "output_type": "execute_result",
          "data": {
            "text/html": [
              "<div>\n",
              "<style scoped>\n",
              "    .dataframe tbody tr th:only-of-type {\n",
              "        vertical-align: middle;\n",
              "    }\n",
              "\n",
              "    .dataframe tbody tr th {\n",
              "        vertical-align: top;\n",
              "    }\n",
              "\n",
              "    .dataframe thead th {\n",
              "        text-align: right;\n",
              "    }\n",
              "</style>\n",
              "<table border=\"1\" class=\"dataframe\">\n",
              "  <thead>\n",
              "    <tr style=\"text-align: right;\">\n",
              "      <th></th>\n",
              "      <th>MAE</th>\n",
              "      <th>MSE</th>\n",
              "    </tr>\n",
              "  </thead>\n",
              "  <tbody>\n",
              "    <tr>\n",
              "      <th>RandomForest</th>\n",
              "      <td>2.224024</td>\n",
              "      <td>9.386710</td>\n",
              "    </tr>\n",
              "    <tr>\n",
              "      <th>TPOT</th>\n",
              "      <td>1.807776</td>\n",
              "      <td>6.230472</td>\n",
              "    </tr>\n",
              "  </tbody>\n",
              "</table>\n",
              "</div>"
            ],
            "text/plain": [
              "                   MAE       MSE\n",
              "RandomForest  2.224024  9.386710\n",
              "TPOT          1.807776  6.230472"
            ]
          },
          "metadata": {
            "tags": []
          },
          "execution_count": 28
        }
      ]
    },
    {
      "cell_type": "markdown",
      "metadata": {
        "id": "m0USLB3U6KON"
      },
      "source": [
        "# Algorithms"
      ]
    },
    {
      "cell_type": "markdown",
      "metadata": {
        "id": "zlwsCfZo6LPJ"
      },
      "source": [
        "* sklearn.naive_bayes.BernoulliNB: \n",
        " * alpha: [1e-3, 1e-2, 1e-1, 1., 10., 100.]\n",
        " * fit_prior: [True, False] }\n",
        "* sklearn.naive_bayes.MultinomialNB: \n",
        " * alpha: [1e-3, 1e-2, 1e-1, 1., 10., 100.]\n",
        " * fit_prior: [True, False]\n",
        "* sklearn.tree.DecisionTreeClassifier: \n",
        " * criterion: [“gini”, “entropy”]\n",
        " * max_depth: range(1, 11)\n",
        " * min_samples_split: range(2, 21)\n",
        " * min_samples_leaf: range(1, 21)\n",
        "* sklearn.ensemble.ExtraTreesClassifier: \n",
        " * n_estimators: [100]\n",
        " * criterion: [“gini”, “entropy”]\n",
        " * max_features: np.arange(0.05, 1.01, 0.05)\n",
        " * min_samples_split: range(2, 21)\n",
        " * min_samples_leaf: range(1, 21)\n",
        " * bootstrap: [True, False]\n",
        "* sklearn.ensemble.RandomForestClassifier: \n",
        " * n_estimators: [100]\n",
        " * criterion: [“gini”, “entropy”]\n",
        " * max_features: np.arange(0.05, 1.01, 0.05)\n",
        " * min_samples_split: range(2, 21)\n",
        " * min_samples_leaf: range(1, 21)\n",
        " * bootstrap: [True, False] \n",
        "* sklearn.ensemble.GradientBoostingClassifier’:\n",
        " * n_estimators’: [100]\n",
        " * learning_rate: [1e-3, 1e-2, 1e-1, 0.5, 1.]\n",
        " * max_depth: range(1, 11)\n",
        " * min_samples_split: range(2, 21)\n",
        " * min_samples_leaf: range(1, 21)\n",
        " * subsample: np.arange(0.05, 1.01, 0.05)\n",
        " * max_features’: np.arange(0.05, 1.01, 0.05)\n",
        "* sklearn.neighbors.KNeighborsClassifier’:\n",
        " * n_neighbors: range(1, 101)\n",
        " * weights: [“uniform”, “distance”]\n",
        " * pL [1, 2] \n",
        "* sklearn.svm.LinearSVC:\n",
        " * penalty: [“l1”, “l2”]\n",
        " * loss: [“hinge”, “squared_hinge”]\n",
        " * dual: [True, False]\n",
        " * tol: [1e-5, 1e-4, 1e-3, 1e-2, 1e-1]\n",
        " * C: [1e-4, 1e-3, 1e-2, 1e-1, 0.5, 1., 5., 10., 15., 20., 25.]\n",
        "* sklearn.linear_model.LogisticRegression:\n",
        " * penalty: [“l1”, “l2”]\n",
        " * C: [1e-4, 1e-3, 1e-2, 1e-1, 0.5, 1., 5., 10., 15., 20., 25.]\n",
        " * dual: [True, False]\n",
        "* xgboost.XGBClassifier: \n",
        " * n_estimators: [100]\n",
        " * max_depth: range(1, 11)\n",
        " * learning_rate: [1e-3, 1e-2, 1e-1, 0.5, 1.]\n",
        " * subsample: np.arange(0.05, 1.01, 0.05)\n",
        " * min_child_weight: range(1, 21)\n",
        " * nthread: [1] "
      ]
    },
    {
      "cell_type": "markdown",
      "metadata": {
        "id": "wv6hy3lJ6eFy"
      },
      "source": [
        "# Feature Engineering"
      ]
    },
    {
      "cell_type": "markdown",
      "metadata": {
        "id": "1NVcJslg6LzN"
      },
      "source": [
        "* sklearn.preprocessing.Binarizer’:\n",
        " * threshold’: np.arange(0.0, 1.01, 0.05) \n",
        "* sklearn.decomposition.FastICA’:\n",
        " * tol: np.arange(0.0, 1.01, 0.05)\n",
        "* sklearn.cluster.FeatureAgglomeration’:\n",
        " * linkage: [‘ward’, ‘complete’, ‘average’]\n",
        " * affinity: [‘euclidean’, ‘l1’, ‘l2’, ‘manhattan’, ‘cosine’]\n",
        "* sklearn.preprocessing.MaxAbsScaler \n",
        "* sklearn.preprocessing.MinMaxScaler\n",
        "* sklearn.preprocessing.Normalizer’\n",
        " * ‘norm’: [‘l1’, ‘l2’, ‘max’] \n",
        "* sklearn.kernel_approximation.Nystroem:\n",
        " * kernel: [‘rbf’, ‘cosine’, ‘chi2’, ‘laplacian’, ‘polynomial’, ‘poly’, ‘linear’, ‘additive_chi2’, ‘sigmoid’], \n",
        " * gamma: np.arange(0.0, 1.01, 0.05)\n",
        " * n_components: range(1, 11) \n",
        "* sklearn.decomposition.PCA:\n",
        " * svd_solver: [‘randomized’]\n",
        " * iterated_power: range(1, 11) \n",
        "* sklearn.preprocessing.PolynomialFeatures:\n",
        " * degree: [2]\n",
        " * include_bias: [False]\n",
        " * interaction_only: [False] \n",
        "* sklearn.kernel_approximation.RBFSampler:\n",
        " * gamma: np.arange(0.0, 1.01, 0.05)\n",
        "* sklearn.preprocessing.RobustScaler\n",
        "* sklearn.preprocessing.StandardScaler\n",
        "* tpot.builtins.ZeroCount\n",
        "* tpot.builtins.OneHotEncoder:\n",
        " * minimum_fraction: [0.05, 0.1, 0.15, 0.2, 0.25]\n",
        " * sparse’: [False]"
      ]
    },
    {
      "cell_type": "markdown",
      "metadata": {
        "id": "poFla6uS6RIB"
      },
      "source": [
        "# Tips\n",
        "* Prepare to wait - TPOT has a lot of models to work through\n",
        " * Control number of generations & population\n",
        " * You can get 2 or more models if not converged\n",
        " * TPOT does offer a pause and resume method\n",
        "* Reproduceability - Randomness\n",
        "* TPOT has its own OHE\n",
        " * < 10 unique values are treated as categorical\n",
        " * You can encode your own and feed into TPOT\n",
        "* TPOT isn't the only place you'll see Genetic Algorithms paired with ML\n",
        " * Neural Networks (Nodes & Layers)\n",
        "* Genetic Algorithms aren't the only Meta-Heuristic"
      ]
    },
    {
      "cell_type": "code",
      "metadata": {
        "id": "uvAm_oGb6lAu"
      },
      "source": [
        ""
      ],
      "execution_count": 28,
      "outputs": []
    }
  ]
}